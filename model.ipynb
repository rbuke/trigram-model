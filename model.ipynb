{
 "cells": [
  {
   "cell_type": "markdown",
   "metadata": {},
   "source": [
    "Our first method will use simple counting i.e. count the number of times each character is predicted based on two characters provided e.g. the name jane would defines n as the next characters after 'ja' so that would add to 'n' probability of being the next character "
   ]
  },
  {
   "cell_type": "code",
   "execution_count": 1,
   "metadata": {},
   "outputs": [
    {
     "name": "stdout",
     "output_type": "stream",
     "text": [
      "Requirement already satisfied: torch in /Users/robbuckley/anaconda3/lib/python3.11/site-packages (2.1.2)\n",
      "Requirement already satisfied: torchvision in /Users/robbuckley/anaconda3/lib/python3.11/site-packages (0.16.2)\n",
      "Requirement already satisfied: filelock in /Users/robbuckley/anaconda3/lib/python3.11/site-packages (from torch) (3.13.1)\n",
      "Requirement already satisfied: typing-extensions in /Users/robbuckley/anaconda3/lib/python3.11/site-packages (from torch) (4.9.0)\n",
      "Requirement already satisfied: sympy in /Users/robbuckley/anaconda3/lib/python3.11/site-packages (from torch) (1.12)\n",
      "Requirement already satisfied: networkx in /Users/robbuckley/anaconda3/lib/python3.11/site-packages (from torch) (3.1)\n",
      "Requirement already satisfied: jinja2 in /Users/robbuckley/anaconda3/lib/python3.11/site-packages (from torch) (3.1.2)\n",
      "Requirement already satisfied: fsspec in /Users/robbuckley/anaconda3/lib/python3.11/site-packages (from torch) (2023.10.0)\n",
      "Requirement already satisfied: numpy in /Users/robbuckley/anaconda3/lib/python3.11/site-packages (from torchvision) (1.26.3)\n",
      "Requirement already satisfied: requests in /Users/robbuckley/anaconda3/lib/python3.11/site-packages (from torchvision) (2.31.0)\n",
      "Requirement already satisfied: pillow!=8.3.*,>=5.3.0 in /Users/robbuckley/anaconda3/lib/python3.11/site-packages (from torchvision) (10.0.1)\n",
      "Requirement already satisfied: MarkupSafe>=2.0 in /Users/robbuckley/anaconda3/lib/python3.11/site-packages (from jinja2->torch) (2.1.3)\n",
      "Requirement already satisfied: charset-normalizer<4,>=2 in /Users/robbuckley/anaconda3/lib/python3.11/site-packages (from requests->torchvision) (2.0.4)\n",
      "Requirement already satisfied: idna<4,>=2.5 in /Users/robbuckley/anaconda3/lib/python3.11/site-packages (from requests->torchvision) (3.4)\n",
      "Requirement already satisfied: urllib3<3,>=1.21.1 in /Users/robbuckley/anaconda3/lib/python3.11/site-packages (from requests->torchvision) (1.26.18)\n",
      "Requirement already satisfied: certifi>=2017.4.17 in /Users/robbuckley/anaconda3/lib/python3.11/site-packages (from requests->torchvision) (2023.11.17)\n",
      "Requirement already satisfied: mpmath>=0.19 in /Users/robbuckley/anaconda3/lib/python3.11/site-packages (from sympy->torch) (1.3.0)\n",
      "Note: you may need to restart the kernel to use updated packages.\n"
     ]
    }
   ],
   "source": [
    "import math\n",
    "import numpy as np\n",
    "import matplotlib.pyplot as plt\n",
    "%matplotlib inline \n",
    "%pip install torch torchvision\n",
    "import torch"
   ]
  },
  {
   "cell_type": "code",
   "execution_count": 2,
   "metadata": {},
   "outputs": [
    {
     "data": {
      "text/plain": [
       "['emma',\n",
       " 'olivia',\n",
       " 'ava',\n",
       " 'isabella',\n",
       " 'sophia',\n",
       " 'charlotte',\n",
       " 'mia',\n",
       " 'amelia',\n",
       " 'harper',\n",
       " 'evelyn']"
      ]
     },
     "execution_count": 2,
     "metadata": {},
     "output_type": "execute_result"
    }
   ],
   "source": [
    "# Read in words\n",
    "words = open('names.txt', 'r').read().splitlines()\n",
    "words[:10]\n"
   ]
  },
  {
   "cell_type": "markdown",
   "metadata": {},
   "source": [
    "In this instance, we are only looking at three characters. Two input characters, and the character we are predicting next.\n",
    "\n",
    "e.g. what characters are likely to follow r\n",
    "\n",
    "we also now what names are likely to start and finish at\n",
    "\n",
    "\n",
    "We then do a simple count of most prominent trigrams\n",
    "\n",
    "How many examples do we get from emma?\n",
    "\n",
    "<S>e -> m\n",
    "em -> m\n",
    "mm -> a\n",
    "ma -> <E>"
   ]
  },
  {
   "cell_type": "code",
   "execution_count": 3,
   "metadata": {},
   "outputs": [],
   "source": [
    "t = {}\n",
    "for w in words:\n",
    "    chs = ['<S>'] + list(w) + ['<E>'] # hallucinate a start character and end character \n",
    "    for pair, ch2 in zip(zip(chs, chs[1:]), chs[2:]):\n",
    "        trigram  = (''.join(pair), ch2)\n",
    "        t[trigram] = t.get(trigram, 0) + 1"
   ]
  },
  {
   "cell_type": "markdown",
   "metadata": {},
   "source": [
    "Now lets get the count of each combo and sort. we'll see that ah followed by ending character occurs the"
   ]
  },
  {
   "cell_type": "code",
   "execution_count": 5,
   "metadata": {},
   "outputs": [
    {
     "data": {
      "text/plain": [
       "[(('ah', '<E>'), 1714),\n",
       " (('na', '<E>'), 1673),\n",
       " (('an', '<E>'), 1509),\n",
       " (('on', '<E>'), 1503),\n",
       " (('<S>m', 'a'), 1453),\n",
       " (('<S>j', 'a'), 1255),\n",
       " (('<S>k', 'a'), 1254),\n",
       " (('en', '<E>'), 1217),\n",
       " (('ly', 'n'), 976),\n",
       " (('yn', '<E>'), 953)]"
      ]
     },
     "execution_count": 5,
     "metadata": {},
     "output_type": "execute_result"
    }
   ],
   "source": [
    "sorted_t = sorted(t.items(), key = lambda kv: -kv[1])\n",
    "sorted_t[:10]"
   ]
  },
  {
   "cell_type": "markdown",
   "metadata": {},
   "source": [
    "We need to create a lookup of integers to pairs so we can have an index. \n",
    "Basically we need an integer ref for all our points in our torch, that means each character pair needs an integer value, and each character needs a value e.g. ac = [100] and if it predicts d as next letter it would be axis point [100, 3]. Therefore each time this is shown, we add +1, allowing us to count the number of occurences \n",
    "\n",
    "If I understand this correctly, we therefore need two integer lookups: \n",
    "-\n",
    "Taking our char pairs as the 'y' axis - we need 0:len(unique-pairs)  i.e. 0-600 and then our single character axis being x axis, we need 28 chars (alphabet including <S> and <E>)\n",
    "\n",
    "0   |------------------------------| 28\n",
    "    |<S>aa   <S>ab  <S>ac\n",
    "    |aaa     aab    aac\n",
    "    |..\n",
    "    |..\n",
    "    |..\n",
    "784 |zaa zab"
   ]
  },
  {
   "cell_type": "markdown",
   "metadata": {},
   "source": [
    "Lets get the character string to integer index for our 'y-axis' which is a - z and our <S> and <E> characters"
   ]
  },
  {
   "cell_type": "code",
   "execution_count": 6,
   "metadata": {},
   "outputs": [
    {
     "name": "stdout",
     "output_type": "stream",
     "text": [
      "['a', 'b', 'c', 'd', 'e', 'f', 'g', 'h', 'i', 'j']\n"
     ]
    }
   ],
   "source": [
    "# returns all the set of lowercase characters\n",
    "chars = sorted(set(''.join(words)))\n",
    "char_to_integer = {s:i for i,s in enumerate(chars)}\n",
    "char_to_integer['<S>'] = 26\n",
    "char_to_integer['<E>'] = 27\n",
    "print(list(char_to_integer)[:10])"
   ]
  },
  {
   "cell_type": "markdown",
   "metadata": {},
   "source": [
    "Lets convert our trigram to an array. We need to deduce how many rows we have, so it should be all the combinations of characters against our list of 28 chars.\n",
    "\n",
    "28 characters consist of 26 alphabet characters plus our <S> and <E> characters. So as we can pair same characters together e.g. -> a,a and with the other 27 chars, there is a total of 28*28 combinations -> 784 (minus some impossible combos e.g. <S><E> a<S> <E>s)\n",
    "\n",
    "Note we can remove all pairs that begin with <E> as its not possible to start on an end character"
   ]
  },
  {
   "cell_type": "code",
   "execution_count": 7,
   "metadata": {},
   "outputs": [
    {
     "name": "stdout",
     "output_type": "stream",
     "text": [
      "{'aa': 0, 'ab': 1, 'ac': 2, 'ad': 3, 'ae': 4, 'af': 5, 'ag': 6, 'ah': 7, 'ai': 8, 'aj': 9, 'ak': 10, 'al': 11, 'am': 12, 'an': 13, 'ao': 14, 'ap': 15, 'aq': 16, 'ar': 17, 'as': 18, 'at': 19, 'au': 20, 'av': 21, 'aw': 22, 'ax': 23, 'ay': 24, 'az': 25, 'a<E>': 26, 'ba': 27, 'bb': 28, 'bc': 29, 'bd': 30, 'be': 31, 'bf': 32, 'bg': 33, 'bh': 34, 'bi': 35, 'bj': 36, 'bk': 37, 'bl': 38, 'bm': 39, 'bn': 40, 'bo': 41, 'bp': 42, 'bq': 43, 'br': 44, 'bs': 45, 'bt': 46, 'bu': 47, 'bv': 48, 'bw': 49, 'bx': 50, 'by': 51, 'bz': 52, 'b<E>': 53, 'ca': 54, 'cb': 55, 'cc': 56, 'cd': 57, 'ce': 58, 'cf': 59, 'cg': 60, 'ch': 61, 'ci': 62, 'cj': 63, 'ck': 64, 'cl': 65, 'cm': 66, 'cn': 67, 'co': 68, 'cp': 69, 'cq': 70, 'cr': 71, 'cs': 72, 'ct': 73, 'cu': 74, 'cv': 75, 'cw': 76, 'cx': 77, 'cy': 78, 'cz': 79, 'c<E>': 80, 'da': 81, 'db': 82, 'dc': 83, 'dd': 84, 'de': 85, 'df': 86, 'dg': 87, 'dh': 88, 'di': 89, 'dj': 90, 'dk': 91, 'dl': 92, 'dm': 93, 'dn': 94, 'do': 95, 'dp': 96, 'dq': 97, 'dr': 98, 'ds': 99, 'dt': 100, 'du': 101, 'dv': 102, 'dw': 103, 'dx': 104, 'dy': 105, 'dz': 106, 'd<E>': 107, 'ea': 108, 'eb': 109, 'ec': 110, 'ed': 111, 'ee': 112, 'ef': 113, 'eg': 114, 'eh': 115, 'ei': 116, 'ej': 117, 'ek': 118, 'el': 119, 'em': 120, 'en': 121, 'eo': 122, 'ep': 123, 'eq': 124, 'er': 125, 'es': 126, 'et': 127, 'eu': 128, 'ev': 129, 'ew': 130, 'ex': 131, 'ey': 132, 'ez': 133, 'e<E>': 134, 'fa': 135, 'fb': 136, 'fc': 137, 'fd': 138, 'fe': 139, 'ff': 140, 'fg': 141, 'fh': 142, 'fi': 143, 'fj': 144, 'fk': 145, 'fl': 146, 'fm': 147, 'fn': 148, 'fo': 149, 'fp': 150, 'fq': 151, 'fr': 152, 'fs': 153, 'ft': 154, 'fu': 155, 'fv': 156, 'fw': 157, 'fx': 158, 'fy': 159, 'fz': 160, 'f<E>': 161, 'ga': 162, 'gb': 163, 'gc': 164, 'gd': 165, 'ge': 166, 'gf': 167, 'gg': 168, 'gh': 169, 'gi': 170, 'gj': 171, 'gk': 172, 'gl': 173, 'gm': 174, 'gn': 175, 'go': 176, 'gp': 177, 'gq': 178, 'gr': 179, 'gs': 180, 'gt': 181, 'gu': 182, 'gv': 183, 'gw': 184, 'gx': 185, 'gy': 186, 'gz': 187, 'g<E>': 188, 'ha': 189, 'hb': 190, 'hc': 191, 'hd': 192, 'he': 193, 'hf': 194, 'hg': 195, 'hh': 196, 'hi': 197, 'hj': 198, 'hk': 199, 'hl': 200, 'hm': 201, 'hn': 202, 'ho': 203, 'hp': 204, 'hq': 205, 'hr': 206, 'hs': 207, 'ht': 208, 'hu': 209, 'hv': 210, 'hw': 211, 'hx': 212, 'hy': 213, 'hz': 214, 'h<E>': 215, 'ia': 216, 'ib': 217, 'ic': 218, 'id': 219, 'ie': 220, 'if': 221, 'ig': 222, 'ih': 223, 'ii': 224, 'ij': 225, 'ik': 226, 'il': 227, 'im': 228, 'in': 229, 'io': 230, 'ip': 231, 'iq': 232, 'ir': 233, 'is': 234, 'it': 235, 'iu': 236, 'iv': 237, 'iw': 238, 'ix': 239, 'iy': 240, 'iz': 241, 'i<E>': 242, 'ja': 243, 'jb': 244, 'jc': 245, 'jd': 246, 'je': 247, 'jf': 248, 'jg': 249, 'jh': 250, 'ji': 251, 'jj': 252, 'jk': 253, 'jl': 254, 'jm': 255, 'jn': 256, 'jo': 257, 'jp': 258, 'jq': 259, 'jr': 260, 'js': 261, 'jt': 262, 'ju': 263, 'jv': 264, 'jw': 265, 'jx': 266, 'jy': 267, 'jz': 268, 'j<E>': 269, 'ka': 270, 'kb': 271, 'kc': 272, 'kd': 273, 'ke': 274, 'kf': 275, 'kg': 276, 'kh': 277, 'ki': 278, 'kj': 279, 'kk': 280, 'kl': 281, 'km': 282, 'kn': 283, 'ko': 284, 'kp': 285, 'kq': 286, 'kr': 287, 'ks': 288, 'kt': 289, 'ku': 290, 'kv': 291, 'kw': 292, 'kx': 293, 'ky': 294, 'kz': 295, 'k<E>': 296, 'la': 297, 'lb': 298, 'lc': 299, 'ld': 300, 'le': 301, 'lf': 302, 'lg': 303, 'lh': 304, 'li': 305, 'lj': 306, 'lk': 307, 'll': 308, 'lm': 309, 'ln': 310, 'lo': 311, 'lp': 312, 'lq': 313, 'lr': 314, 'ls': 315, 'lt': 316, 'lu': 317, 'lv': 318, 'lw': 319, 'lx': 320, 'ly': 321, 'lz': 322, 'l<E>': 323, 'ma': 324, 'mb': 325, 'mc': 326, 'md': 327, 'me': 328, 'mf': 329, 'mg': 330, 'mh': 331, 'mi': 332, 'mj': 333, 'mk': 334, 'ml': 335, 'mm': 336, 'mn': 337, 'mo': 338, 'mp': 339, 'mq': 340, 'mr': 341, 'ms': 342, 'mt': 343, 'mu': 344, 'mv': 345, 'mw': 346, 'mx': 347, 'my': 348, 'mz': 349, 'm<E>': 350, 'na': 351, 'nb': 352, 'nc': 353, 'nd': 354, 'ne': 355, 'nf': 356, 'ng': 357, 'nh': 358, 'ni': 359, 'nj': 360, 'nk': 361, 'nl': 362, 'nm': 363, 'nn': 364, 'no': 365, 'np': 366, 'nq': 367, 'nr': 368, 'ns': 369, 'nt': 370, 'nu': 371, 'nv': 372, 'nw': 373, 'nx': 374, 'ny': 375, 'nz': 376, 'n<E>': 377, 'oa': 378, 'ob': 379, 'oc': 380, 'od': 381, 'oe': 382, 'of': 383, 'og': 384, 'oh': 385, 'oi': 386, 'oj': 387, 'ok': 388, 'ol': 389, 'om': 390, 'on': 391, 'oo': 392, 'op': 393, 'oq': 394, 'or': 395, 'os': 396, 'ot': 397, 'ou': 398, 'ov': 399, 'ow': 400, 'ox': 401, 'oy': 402, 'oz': 403, 'o<E>': 404, 'pa': 405, 'pb': 406, 'pc': 407, 'pd': 408, 'pe': 409, 'pf': 410, 'pg': 411, 'ph': 412, 'pi': 413, 'pj': 414, 'pk': 415, 'pl': 416, 'pm': 417, 'pn': 418, 'po': 419, 'pp': 420, 'pq': 421, 'pr': 422, 'ps': 423, 'pt': 424, 'pu': 425, 'pv': 426, 'pw': 427, 'px': 428, 'py': 429, 'pz': 430, 'p<E>': 431, 'qa': 432, 'qb': 433, 'qc': 434, 'qd': 435, 'qe': 436, 'qf': 437, 'qg': 438, 'qh': 439, 'qi': 440, 'qj': 441, 'qk': 442, 'ql': 443, 'qm': 444, 'qn': 445, 'qo': 446, 'qp': 447, 'qq': 448, 'qr': 449, 'qs': 450, 'qt': 451, 'qu': 452, 'qv': 453, 'qw': 454, 'qx': 455, 'qy': 456, 'qz': 457, 'q<E>': 458, 'ra': 459, 'rb': 460, 'rc': 461, 'rd': 462, 're': 463, 'rf': 464, 'rg': 465, 'rh': 466, 'ri': 467, 'rj': 468, 'rk': 469, 'rl': 470, 'rm': 471, 'rn': 472, 'ro': 473, 'rp': 474, 'rq': 475, 'rr': 476, 'rs': 477, 'rt': 478, 'ru': 479, 'rv': 480, 'rw': 481, 'rx': 482, 'ry': 483, 'rz': 484, 'r<E>': 485, 'sa': 486, 'sb': 487, 'sc': 488, 'sd': 489, 'se': 490, 'sf': 491, 'sg': 492, 'sh': 493, 'si': 494, 'sj': 495, 'sk': 496, 'sl': 497, 'sm': 498, 'sn': 499, 'so': 500, 'sp': 501, 'sq': 502, 'sr': 503, 'ss': 504, 'st': 505, 'su': 506, 'sv': 507, 'sw': 508, 'sx': 509, 'sy': 510, 'sz': 511, 's<E>': 512, 'ta': 513, 'tb': 514, 'tc': 515, 'td': 516, 'te': 517, 'tf': 518, 'tg': 519, 'th': 520, 'ti': 521, 'tj': 522, 'tk': 523, 'tl': 524, 'tm': 525, 'tn': 526, 'to': 527, 'tp': 528, 'tq': 529, 'tr': 530, 'ts': 531, 'tt': 532, 'tu': 533, 'tv': 534, 'tw': 535, 'tx': 536, 'ty': 537, 'tz': 538, 't<E>': 539, 'ua': 540, 'ub': 541, 'uc': 542, 'ud': 543, 'ue': 544, 'uf': 545, 'ug': 546, 'uh': 547, 'ui': 548, 'uj': 549, 'uk': 550, 'ul': 551, 'um': 552, 'un': 553, 'uo': 554, 'up': 555, 'uq': 556, 'ur': 557, 'us': 558, 'ut': 559, 'uu': 560, 'uv': 561, 'uw': 562, 'ux': 563, 'uy': 564, 'uz': 565, 'u<E>': 566, 'va': 567, 'vb': 568, 'vc': 569, 'vd': 570, 've': 571, 'vf': 572, 'vg': 573, 'vh': 574, 'vi': 575, 'vj': 576, 'vk': 577, 'vl': 578, 'vm': 579, 'vn': 580, 'vo': 581, 'vp': 582, 'vq': 583, 'vr': 584, 'vs': 585, 'vt': 586, 'vu': 587, 'vv': 588, 'vw': 589, 'vx': 590, 'vy': 591, 'vz': 592, 'v<E>': 593, 'wa': 594, 'wb': 595, 'wc': 596, 'wd': 597, 'we': 598, 'wf': 599, 'wg': 600, 'wh': 601, 'wi': 602, 'wj': 603, 'wk': 604, 'wl': 605, 'wm': 606, 'wn': 607, 'wo': 608, 'wp': 609, 'wq': 610, 'wr': 611, 'ws': 612, 'wt': 613, 'wu': 614, 'wv': 615, 'ww': 616, 'wx': 617, 'wy': 618, 'wz': 619, 'w<E>': 620, 'xa': 621, 'xb': 622, 'xc': 623, 'xd': 624, 'xe': 625, 'xf': 626, 'xg': 627, 'xh': 628, 'xi': 629, 'xj': 630, 'xk': 631, 'xl': 632, 'xm': 633, 'xn': 634, 'xo': 635, 'xp': 636, 'xq': 637, 'xr': 638, 'xs': 639, 'xt': 640, 'xu': 641, 'xv': 642, 'xw': 643, 'xx': 644, 'xy': 645, 'xz': 646, 'x<E>': 647, 'ya': 648, 'yb': 649, 'yc': 650, 'yd': 651, 'ye': 652, 'yf': 653, 'yg': 654, 'yh': 655, 'yi': 656, 'yj': 657, 'yk': 658, 'yl': 659, 'ym': 660, 'yn': 661, 'yo': 662, 'yp': 663, 'yq': 664, 'yr': 665, 'ys': 666, 'yt': 667, 'yu': 668, 'yv': 669, 'yw': 670, 'yx': 671, 'yy': 672, 'yz': 673, 'y<E>': 674, 'za': 675, 'zb': 676, 'zc': 677, 'zd': 678, 'ze': 679, 'zf': 680, 'zg': 681, 'zh': 682, 'zi': 683, 'zj': 684, 'zk': 685, 'zl': 686, 'zm': 687, 'zn': 688, 'zo': 689, 'zp': 690, 'zq': 691, 'zr': 692, 'zs': 693, 'zt': 694, 'zu': 695, 'zv': 696, 'zw': 697, 'zx': 698, 'zy': 699, 'zz': 700, 'z<E>': 701, '<S>a': 702, '<S>b': 703, '<S>c': 704, '<S>d': 705, '<S>e': 706, '<S>f': 707, '<S>g': 708, '<S>h': 709, '<S>i': 710, '<S>j': 711, '<S>k': 712, '<S>l': 713, '<S>m': 714, '<S>n': 715, '<S>o': 716, '<S>p': 717, '<S>q': 718, '<S>r': 719, '<S>s': 720, '<S>t': 721, '<S>u': 722, '<S>v': 723, '<S>w': 724, '<S>x': 725, '<S>y': 726, '<S>z': 727}\n"
     ]
    }
   ],
   "source": [
    "import string\n",
    "\n",
    "# Create a list of all lowercase letters plus <S> and <E>\n",
    "letters = list(string.ascii_lowercase) + [\"<S>\", \"<E>\"]\n",
    "\n",
    "# Create a list of tuples where the first element is a pair of characters and the second element is an integer index\n",
    "pairs_string_to_integer = [(a+b, i) for i, (a, b) in enumerate((x, y) for x in letters for y in letters)]\n",
    "\n",
    "## And finally convert this to dictionary so we can do lookups\n",
    "pairs_string_to_integer = dict(pairs_string_to_integer)\n",
    "pairs_string_to_integer['fa']\n",
    "\n",
    "# Remove all keys where <S> is the second character\n",
    "pairs_string_to_integer = {key: value for key, value in pairs_string_to_integer.items() if not key.endswith('<S>')}\n",
    "\n",
    "# Remove all keys where <E> is the first character\n",
    "pairs_string_to_integer = {key: value for key, value in pairs_string_to_integer.items() if not key.startswith('<E>')}\n",
    "\n",
    "# Remove <S><E> as not possible\n",
    "pairs_string_to_integer = {key: value for key, value in pairs_string_to_integer.items() if not key == (\"<S><E>\")}\n",
    "\n",
    "# Reset the indices\n",
    "pairs_string_to_integer = {key: i for i, (key, value) in enumerate(pairs_string_to_integer.items())}\n",
    "\n",
    "print(pairs_string_to_integer)\n"
   ]
  },
  {
   "cell_type": "code",
   "execution_count": 8,
   "metadata": {},
   "outputs": [
    {
     "data": {
      "text/plain": [
       "tensor([[0, 0, 0, 0, 0, 0, 0, 0, 0, 0, 0, 0, 0, 0, 0, 0, 0, 0, 0, 0, 0, 0, 0, 0,\n",
       "         0, 0, 0, 0],\n",
       "        [0, 0, 0, 0, 0, 0, 0, 0, 0, 0, 0, 0, 0, 0, 0, 0, 0, 0, 0, 0, 0, 0, 0, 0,\n",
       "         0, 0, 0, 0],\n",
       "        [0, 0, 0, 0, 0, 0, 0, 0, 0, 0, 0, 0, 0, 0, 0, 0, 0, 0, 0, 0, 0, 0, 0, 0,\n",
       "         0, 0, 0, 0],\n",
       "        [0, 0, 0, 0, 0, 0, 0, 0, 0, 0, 0, 0, 0, 0, 0, 0, 0, 0, 0, 0, 0, 0, 0, 0,\n",
       "         0, 0, 0, 0],\n",
       "        [0, 0, 0, 0, 0, 0, 0, 0, 0, 0, 0, 0, 0, 0, 0, 0, 0, 0, 0, 0, 0, 0, 0, 0,\n",
       "         0, 0, 0, 0]], dtype=torch.int32)"
      ]
     },
     "execution_count": 8,
     "metadata": {},
     "output_type": "execute_result"
    }
   ],
   "source": [
    "## Creates a 784 * 28 tensor that is empty initially\n",
    "import torch\n",
    "\n",
    "N = torch.zeros((len(pairs_string_to_integer), 28), dtype=torch.int32) # 28*28 = 784 for different pair combos\n",
    "N[:5]"
   ]
  },
  {
   "cell_type": "markdown",
   "metadata": {},
   "source": [
    "Now add our counts of each character to the tensor i.e. all counts of aab -> zzz occuring\n",
    "\n",
    "Each time e.g. ab pair with pred c comes up, we add a count to the co-ordinates in the tensor. As a result, we get the probability of each pair and next character occuring"
   ]
  },
  {
   "cell_type": "code",
   "execution_count": 9,
   "metadata": {},
   "outputs": [],
   "source": [
    "for w in words:\n",
    "    chs = ['<S>'] + list(w) + ['<E>'] # hallucinate a start character and end character \n",
    "    for pair, ch2 in zip(zip(chs, chs[1:]), chs[2:]):\n",
    "        trigram  = (''.join(pair), ch2) #  e.g. ('<S>e', 'm')\n",
    "        pairs_combined = trigram[0] #  e.g '<S>e'\n",
    "        print\n",
    "        ix1 = pairs_string_to_integer[pairs_combined]\n",
    "        ix2 = char_to_integer[ch2]\n",
    "        N[ix1, ix2] += 1  "
   ]
  },
  {
   "cell_type": "code",
   "execution_count": 10,
   "metadata": {},
   "outputs": [
    {
     "data": {
      "text/plain": [
       "tensor([121,   2,   0,   0,  98,   0,   0,  30,  99,   0,   3,  27,   0,   0,\n",
       "         48,   0,   0,   4,  40,   1,   9,   0,   0,   0,  52,   0,   0,  34],\n",
       "       dtype=torch.int32)"
      ]
     },
     "execution_count": 10,
     "metadata": {},
     "output_type": "execute_result"
    }
   ],
   "source": [
    "N[10]"
   ]
  },
  {
   "cell_type": "code",
   "execution_count": 11,
   "metadata": {},
   "outputs": [
    {
     "name": "stdout",
     "output_type": "stream",
     "text": [
      "Requirement already satisfied: matplotlib in /Users/robbuckley/anaconda3/lib/python3.11/site-packages (3.8.0)\n",
      "Requirement already satisfied: contourpy>=1.0.1 in /Users/robbuckley/anaconda3/lib/python3.11/site-packages (from matplotlib) (1.2.0)\n",
      "Requirement already satisfied: cycler>=0.10 in /Users/robbuckley/anaconda3/lib/python3.11/site-packages (from matplotlib) (0.11.0)\n",
      "Requirement already satisfied: fonttools>=4.22.0 in /Users/robbuckley/anaconda3/lib/python3.11/site-packages (from matplotlib) (4.25.0)\n",
      "Requirement already satisfied: kiwisolver>=1.0.1 in /Users/robbuckley/anaconda3/lib/python3.11/site-packages (from matplotlib) (1.4.4)\n",
      "Requirement already satisfied: numpy<2,>=1.21 in /Users/robbuckley/anaconda3/lib/python3.11/site-packages (from matplotlib) (1.26.3)\n",
      "Requirement already satisfied: packaging>=20.0 in /Users/robbuckley/anaconda3/lib/python3.11/site-packages (from matplotlib) (23.2)\n",
      "Requirement already satisfied: pillow>=6.2.0 in /Users/robbuckley/anaconda3/lib/python3.11/site-packages (from matplotlib) (10.0.1)\n",
      "Requirement already satisfied: pyparsing>=2.3.1 in /Users/robbuckley/anaconda3/lib/python3.11/site-packages (from matplotlib) (3.0.9)\n",
      "Requirement already satisfied: python-dateutil>=2.7 in /Users/robbuckley/anaconda3/lib/python3.11/site-packages (from matplotlib) (2.8.2)\n",
      "Requirement already satisfied: six>=1.5 in /Users/robbuckley/anaconda3/lib/python3.11/site-packages (from python-dateutil>=2.7->matplotlib) (1.16.0)\n",
      "Note: you may need to restart the kernel to use updated packages.\n"
     ]
    }
   ],
   "source": [
    "%pip install matplotlib\n",
    "import matplotlib.pyplot as plt\n",
    "%matplotlib inline"
   ]
  },
  {
   "cell_type": "markdown",
   "metadata": {},
   "source": [
    "Create an inverse of string to integer, this way we can look up our characters based on the cordinates in our tensor N"
   ]
  },
  {
   "cell_type": "code",
   "execution_count": 12,
   "metadata": {},
   "outputs": [
    {
     "data": {
      "text/plain": [
       "'dt'"
      ]
     },
     "execution_count": 12,
     "metadata": {},
     "output_type": "execute_result"
    }
   ],
   "source": [
    "pred_itos = {i:s for s,i in char_to_integer.items()}\n",
    "pair_itos = {i:s for s,i in pairs_string_to_integer.items()}\n",
    "pair_itos[100]"
   ]
  },
  {
   "cell_type": "code",
   "execution_count": null,
   "metadata": {},
   "outputs": [
    {
     "data": {
      "text/plain": [
       "(-0.5, 27.5, 727.5, -0.5)"
      ]
     },
     "execution_count": 12,
     "metadata": {},
     "output_type": "execute_result"
    },
    {
     "name": "stdout",
     "output_type": "stream",
     "text": [
      "Error in callback <function flush_figures at 0x10f7e2840> (for post_execute), with arguments args (),kwargs {}:\n"
     ]
    },
    {
     "ename": "KeyboardInterrupt",
     "evalue": "",
     "output_type": "error",
     "traceback": [
      "\u001b[0;31m---------------------------------------------------------------------------\u001b[0m",
      "\u001b[0;31mKeyboardInterrupt\u001b[0m                         Traceback (most recent call last)",
      "File \u001b[0;32m~/anaconda3/lib/python3.11/site-packages/matplotlib_inline/backend_inline.py:126\u001b[0m, in \u001b[0;36mflush_figures\u001b[0;34m()\u001b[0m\n\u001b[1;32m    123\u001b[0m \u001b[38;5;28;01mif\u001b[39;00m InlineBackend\u001b[38;5;241m.\u001b[39minstance()\u001b[38;5;241m.\u001b[39mclose_figures:\n\u001b[1;32m    124\u001b[0m     \u001b[38;5;66;03m# ignore the tracking, just draw and close all figures\u001b[39;00m\n\u001b[1;32m    125\u001b[0m     \u001b[38;5;28;01mtry\u001b[39;00m:\n\u001b[0;32m--> 126\u001b[0m         \u001b[38;5;28;01mreturn\u001b[39;00m show(\u001b[38;5;28;01mTrue\u001b[39;00m)\n\u001b[1;32m    127\u001b[0m     \u001b[38;5;28;01mexcept\u001b[39;00m \u001b[38;5;167;01mException\u001b[39;00m \u001b[38;5;28;01mas\u001b[39;00m e:\n\u001b[1;32m    128\u001b[0m         \u001b[38;5;66;03m# safely show traceback if in IPython, else raise\u001b[39;00m\n\u001b[1;32m    129\u001b[0m         ip \u001b[38;5;241m=\u001b[39m get_ipython()\n",
      "File \u001b[0;32m~/anaconda3/lib/python3.11/site-packages/matplotlib_inline/backend_inline.py:90\u001b[0m, in \u001b[0;36mshow\u001b[0;34m(close, block)\u001b[0m\n\u001b[1;32m     88\u001b[0m \u001b[38;5;28;01mtry\u001b[39;00m:\n\u001b[1;32m     89\u001b[0m     \u001b[38;5;28;01mfor\u001b[39;00m figure_manager \u001b[38;5;129;01min\u001b[39;00m Gcf\u001b[38;5;241m.\u001b[39mget_all_fig_managers():\n\u001b[0;32m---> 90\u001b[0m         display(\n\u001b[1;32m     91\u001b[0m             figure_manager\u001b[38;5;241m.\u001b[39mcanvas\u001b[38;5;241m.\u001b[39mfigure,\n\u001b[1;32m     92\u001b[0m             metadata\u001b[38;5;241m=\u001b[39m_fetch_figure_metadata(figure_manager\u001b[38;5;241m.\u001b[39mcanvas\u001b[38;5;241m.\u001b[39mfigure)\n\u001b[1;32m     93\u001b[0m         )\n\u001b[1;32m     94\u001b[0m \u001b[38;5;28;01mfinally\u001b[39;00m:\n\u001b[1;32m     95\u001b[0m     show\u001b[38;5;241m.\u001b[39m_to_draw \u001b[38;5;241m=\u001b[39m []\n",
      "File \u001b[0;32m~/anaconda3/lib/python3.11/site-packages/IPython/core/display_functions.py:298\u001b[0m, in \u001b[0;36mdisplay\u001b[0;34m(include, exclude, metadata, transient, display_id, raw, clear, *objs, **kwargs)\u001b[0m\n\u001b[1;32m    296\u001b[0m     publish_display_data(data\u001b[38;5;241m=\u001b[39mobj, metadata\u001b[38;5;241m=\u001b[39mmetadata, \u001b[38;5;241m*\u001b[39m\u001b[38;5;241m*\u001b[39mkwargs)\n\u001b[1;32m    297\u001b[0m \u001b[38;5;28;01melse\u001b[39;00m:\n\u001b[0;32m--> 298\u001b[0m     format_dict, md_dict \u001b[38;5;241m=\u001b[39m \u001b[38;5;28mformat\u001b[39m(obj, include\u001b[38;5;241m=\u001b[39minclude, exclude\u001b[38;5;241m=\u001b[39mexclude)\n\u001b[1;32m    299\u001b[0m     \u001b[38;5;28;01mif\u001b[39;00m \u001b[38;5;129;01mnot\u001b[39;00m format_dict:\n\u001b[1;32m    300\u001b[0m         \u001b[38;5;66;03m# nothing to display (e.g. _ipython_display_ took over)\u001b[39;00m\n\u001b[1;32m    301\u001b[0m         \u001b[38;5;28;01mcontinue\u001b[39;00m\n",
      "File \u001b[0;32m~/anaconda3/lib/python3.11/site-packages/IPython/core/formatters.py:179\u001b[0m, in \u001b[0;36mDisplayFormatter.format\u001b[0;34m(self, obj, include, exclude)\u001b[0m\n\u001b[1;32m    177\u001b[0m md \u001b[38;5;241m=\u001b[39m \u001b[38;5;28;01mNone\u001b[39;00m\n\u001b[1;32m    178\u001b[0m \u001b[38;5;28;01mtry\u001b[39;00m:\n\u001b[0;32m--> 179\u001b[0m     data \u001b[38;5;241m=\u001b[39m formatter(obj)\n\u001b[1;32m    180\u001b[0m \u001b[38;5;28;01mexcept\u001b[39;00m:\n\u001b[1;32m    181\u001b[0m     \u001b[38;5;66;03m# FIXME: log the exception\u001b[39;00m\n\u001b[1;32m    182\u001b[0m     \u001b[38;5;28;01mraise\u001b[39;00m\n",
      "File \u001b[0;32m~/anaconda3/lib/python3.11/site-packages/decorator.py:232\u001b[0m, in \u001b[0;36mdecorate.<locals>.fun\u001b[0;34m(*args, **kw)\u001b[0m\n\u001b[1;32m    230\u001b[0m \u001b[38;5;28;01mif\u001b[39;00m \u001b[38;5;129;01mnot\u001b[39;00m kwsyntax:\n\u001b[1;32m    231\u001b[0m     args, kw \u001b[38;5;241m=\u001b[39m fix(args, kw, sig)\n\u001b[0;32m--> 232\u001b[0m \u001b[38;5;28;01mreturn\u001b[39;00m caller(func, \u001b[38;5;241m*\u001b[39m(extras \u001b[38;5;241m+\u001b[39m args), \u001b[38;5;241m*\u001b[39m\u001b[38;5;241m*\u001b[39mkw)\n",
      "File \u001b[0;32m~/anaconda3/lib/python3.11/site-packages/IPython/core/formatters.py:223\u001b[0m, in \u001b[0;36mcatch_format_error\u001b[0;34m(method, self, *args, **kwargs)\u001b[0m\n\u001b[1;32m    221\u001b[0m \u001b[38;5;250m\u001b[39m\u001b[38;5;124;03m\"\"\"show traceback on failed format call\"\"\"\u001b[39;00m\n\u001b[1;32m    222\u001b[0m \u001b[38;5;28;01mtry\u001b[39;00m:\n\u001b[0;32m--> 223\u001b[0m     r \u001b[38;5;241m=\u001b[39m method(\u001b[38;5;28mself\u001b[39m, \u001b[38;5;241m*\u001b[39margs, \u001b[38;5;241m*\u001b[39m\u001b[38;5;241m*\u001b[39mkwargs)\n\u001b[1;32m    224\u001b[0m \u001b[38;5;28;01mexcept\u001b[39;00m \u001b[38;5;167;01mNotImplementedError\u001b[39;00m:\n\u001b[1;32m    225\u001b[0m     \u001b[38;5;66;03m# don't warn on NotImplementedErrors\u001b[39;00m\n\u001b[1;32m    226\u001b[0m     \u001b[38;5;28;01mreturn\u001b[39;00m \u001b[38;5;28mself\u001b[39m\u001b[38;5;241m.\u001b[39m_check_return(\u001b[38;5;28;01mNone\u001b[39;00m, args[\u001b[38;5;241m0\u001b[39m])\n",
      "File \u001b[0;32m~/anaconda3/lib/python3.11/site-packages/IPython/core/formatters.py:340\u001b[0m, in \u001b[0;36mBaseFormatter.__call__\u001b[0;34m(self, obj)\u001b[0m\n\u001b[1;32m    338\u001b[0m     \u001b[38;5;28;01mpass\u001b[39;00m\n\u001b[1;32m    339\u001b[0m \u001b[38;5;28;01melse\u001b[39;00m:\n\u001b[0;32m--> 340\u001b[0m     \u001b[38;5;28;01mreturn\u001b[39;00m printer(obj)\n\u001b[1;32m    341\u001b[0m \u001b[38;5;66;03m# Finally look for special method names\u001b[39;00m\n\u001b[1;32m    342\u001b[0m method \u001b[38;5;241m=\u001b[39m get_real_method(obj, \u001b[38;5;28mself\u001b[39m\u001b[38;5;241m.\u001b[39mprint_method)\n",
      "File \u001b[0;32m~/anaconda3/lib/python3.11/site-packages/IPython/core/pylabtools.py:152\u001b[0m, in \u001b[0;36mprint_figure\u001b[0;34m(fig, fmt, bbox_inches, base64, **kwargs)\u001b[0m\n\u001b[1;32m    149\u001b[0m     \u001b[38;5;28;01mfrom\u001b[39;00m \u001b[38;5;21;01mmatplotlib\u001b[39;00m\u001b[38;5;21;01m.\u001b[39;00m\u001b[38;5;21;01mbackend_bases\u001b[39;00m \u001b[38;5;28;01mimport\u001b[39;00m FigureCanvasBase\n\u001b[1;32m    150\u001b[0m     FigureCanvasBase(fig)\n\u001b[0;32m--> 152\u001b[0m fig\u001b[38;5;241m.\u001b[39mcanvas\u001b[38;5;241m.\u001b[39mprint_figure(bytes_io, \u001b[38;5;241m*\u001b[39m\u001b[38;5;241m*\u001b[39mkw)\n\u001b[1;32m    153\u001b[0m data \u001b[38;5;241m=\u001b[39m bytes_io\u001b[38;5;241m.\u001b[39mgetvalue()\n\u001b[1;32m    154\u001b[0m \u001b[38;5;28;01mif\u001b[39;00m fmt \u001b[38;5;241m==\u001b[39m \u001b[38;5;124m'\u001b[39m\u001b[38;5;124msvg\u001b[39m\u001b[38;5;124m'\u001b[39m:\n",
      "File \u001b[0;32m~/anaconda3/lib/python3.11/site-packages/matplotlib/backend_bases.py:2187\u001b[0m, in \u001b[0;36mFigureCanvasBase.print_figure\u001b[0;34m(self, filename, dpi, facecolor, edgecolor, orientation, format, bbox_inches, pad_inches, bbox_extra_artists, backend, **kwargs)\u001b[0m\n\u001b[1;32m   2183\u001b[0m \u001b[38;5;28;01mtry\u001b[39;00m:\n\u001b[1;32m   2184\u001b[0m     \u001b[38;5;66;03m# _get_renderer may change the figure dpi (as vector formats\u001b[39;00m\n\u001b[1;32m   2185\u001b[0m     \u001b[38;5;66;03m# force the figure dpi to 72), so we need to set it again here.\u001b[39;00m\n\u001b[1;32m   2186\u001b[0m     \u001b[38;5;28;01mwith\u001b[39;00m cbook\u001b[38;5;241m.\u001b[39m_setattr_cm(\u001b[38;5;28mself\u001b[39m\u001b[38;5;241m.\u001b[39mfigure, dpi\u001b[38;5;241m=\u001b[39mdpi):\n\u001b[0;32m-> 2187\u001b[0m         result \u001b[38;5;241m=\u001b[39m print_method(\n\u001b[1;32m   2188\u001b[0m             filename,\n\u001b[1;32m   2189\u001b[0m             facecolor\u001b[38;5;241m=\u001b[39mfacecolor,\n\u001b[1;32m   2190\u001b[0m             edgecolor\u001b[38;5;241m=\u001b[39medgecolor,\n\u001b[1;32m   2191\u001b[0m             orientation\u001b[38;5;241m=\u001b[39morientation,\n\u001b[1;32m   2192\u001b[0m             bbox_inches_restore\u001b[38;5;241m=\u001b[39m_bbox_inches_restore,\n\u001b[1;32m   2193\u001b[0m             \u001b[38;5;241m*\u001b[39m\u001b[38;5;241m*\u001b[39mkwargs)\n\u001b[1;32m   2194\u001b[0m \u001b[38;5;28;01mfinally\u001b[39;00m:\n\u001b[1;32m   2195\u001b[0m     \u001b[38;5;28;01mif\u001b[39;00m bbox_inches \u001b[38;5;129;01mand\u001b[39;00m restore_bbox:\n",
      "File \u001b[0;32m~/anaconda3/lib/python3.11/site-packages/matplotlib/backend_bases.py:2043\u001b[0m, in \u001b[0;36mFigureCanvasBase._switch_canvas_and_return_print_method.<locals>.<lambda>\u001b[0;34m(*args, **kwargs)\u001b[0m\n\u001b[1;32m   2039\u001b[0m     optional_kws \u001b[38;5;241m=\u001b[39m {  \u001b[38;5;66;03m# Passed by print_figure for other renderers.\u001b[39;00m\n\u001b[1;32m   2040\u001b[0m         \u001b[38;5;124m\"\u001b[39m\u001b[38;5;124mdpi\u001b[39m\u001b[38;5;124m\"\u001b[39m, \u001b[38;5;124m\"\u001b[39m\u001b[38;5;124mfacecolor\u001b[39m\u001b[38;5;124m\"\u001b[39m, \u001b[38;5;124m\"\u001b[39m\u001b[38;5;124medgecolor\u001b[39m\u001b[38;5;124m\"\u001b[39m, \u001b[38;5;124m\"\u001b[39m\u001b[38;5;124morientation\u001b[39m\u001b[38;5;124m\"\u001b[39m,\n\u001b[1;32m   2041\u001b[0m         \u001b[38;5;124m\"\u001b[39m\u001b[38;5;124mbbox_inches_restore\u001b[39m\u001b[38;5;124m\"\u001b[39m}\n\u001b[1;32m   2042\u001b[0m     skip \u001b[38;5;241m=\u001b[39m optional_kws \u001b[38;5;241m-\u001b[39m {\u001b[38;5;241m*\u001b[39minspect\u001b[38;5;241m.\u001b[39msignature(meth)\u001b[38;5;241m.\u001b[39mparameters}\n\u001b[0;32m-> 2043\u001b[0m     print_method \u001b[38;5;241m=\u001b[39m functools\u001b[38;5;241m.\u001b[39mwraps(meth)(\u001b[38;5;28;01mlambda\u001b[39;00m \u001b[38;5;241m*\u001b[39margs, \u001b[38;5;241m*\u001b[39m\u001b[38;5;241m*\u001b[39mkwargs: meth(\n\u001b[1;32m   2044\u001b[0m         \u001b[38;5;241m*\u001b[39margs, \u001b[38;5;241m*\u001b[39m\u001b[38;5;241m*\u001b[39m{k: v \u001b[38;5;28;01mfor\u001b[39;00m k, v \u001b[38;5;129;01min\u001b[39;00m kwargs\u001b[38;5;241m.\u001b[39mitems() \u001b[38;5;28;01mif\u001b[39;00m k \u001b[38;5;129;01mnot\u001b[39;00m \u001b[38;5;129;01min\u001b[39;00m skip}))\n\u001b[1;32m   2045\u001b[0m \u001b[38;5;28;01melse\u001b[39;00m:  \u001b[38;5;66;03m# Let third-parties do as they see fit.\u001b[39;00m\n\u001b[1;32m   2046\u001b[0m     print_method \u001b[38;5;241m=\u001b[39m meth\n",
      "File \u001b[0;32m~/anaconda3/lib/python3.11/site-packages/matplotlib/backends/backend_agg.py:497\u001b[0m, in \u001b[0;36mFigureCanvasAgg.print_png\u001b[0;34m(self, filename_or_obj, metadata, pil_kwargs)\u001b[0m\n\u001b[1;32m    450\u001b[0m \u001b[38;5;28;01mdef\u001b[39;00m \u001b[38;5;21mprint_png\u001b[39m(\u001b[38;5;28mself\u001b[39m, filename_or_obj, \u001b[38;5;241m*\u001b[39m, metadata\u001b[38;5;241m=\u001b[39m\u001b[38;5;28;01mNone\u001b[39;00m, pil_kwargs\u001b[38;5;241m=\u001b[39m\u001b[38;5;28;01mNone\u001b[39;00m):\n\u001b[1;32m    451\u001b[0m \u001b[38;5;250m    \u001b[39m\u001b[38;5;124;03m\"\"\"\u001b[39;00m\n\u001b[1;32m    452\u001b[0m \u001b[38;5;124;03m    Write the figure to a PNG file.\u001b[39;00m\n\u001b[1;32m    453\u001b[0m \n\u001b[0;32m   (...)\u001b[0m\n\u001b[1;32m    495\u001b[0m \u001b[38;5;124;03m        *metadata*, including the default 'Software' key.\u001b[39;00m\n\u001b[1;32m    496\u001b[0m \u001b[38;5;124;03m    \"\"\"\u001b[39;00m\n\u001b[0;32m--> 497\u001b[0m     \u001b[38;5;28mself\u001b[39m\u001b[38;5;241m.\u001b[39m_print_pil(filename_or_obj, \u001b[38;5;124m\"\u001b[39m\u001b[38;5;124mpng\u001b[39m\u001b[38;5;124m\"\u001b[39m, pil_kwargs, metadata)\n",
      "File \u001b[0;32m~/anaconda3/lib/python3.11/site-packages/matplotlib/backends/backend_agg.py:445\u001b[0m, in \u001b[0;36mFigureCanvasAgg._print_pil\u001b[0;34m(self, filename_or_obj, fmt, pil_kwargs, metadata)\u001b[0m\n\u001b[1;32m    440\u001b[0m \u001b[38;5;28;01mdef\u001b[39;00m \u001b[38;5;21m_print_pil\u001b[39m(\u001b[38;5;28mself\u001b[39m, filename_or_obj, fmt, pil_kwargs, metadata\u001b[38;5;241m=\u001b[39m\u001b[38;5;28;01mNone\u001b[39;00m):\n\u001b[1;32m    441\u001b[0m \u001b[38;5;250m    \u001b[39m\u001b[38;5;124;03m\"\"\"\u001b[39;00m\n\u001b[1;32m    442\u001b[0m \u001b[38;5;124;03m    Draw the canvas, then save it using `.image.imsave` (to which\u001b[39;00m\n\u001b[1;32m    443\u001b[0m \u001b[38;5;124;03m    *pil_kwargs* and *metadata* are forwarded).\u001b[39;00m\n\u001b[1;32m    444\u001b[0m \u001b[38;5;124;03m    \"\"\"\u001b[39;00m\n\u001b[0;32m--> 445\u001b[0m     FigureCanvasAgg\u001b[38;5;241m.\u001b[39mdraw(\u001b[38;5;28mself\u001b[39m)\n\u001b[1;32m    446\u001b[0m     mpl\u001b[38;5;241m.\u001b[39mimage\u001b[38;5;241m.\u001b[39mimsave(\n\u001b[1;32m    447\u001b[0m         filename_or_obj, \u001b[38;5;28mself\u001b[39m\u001b[38;5;241m.\u001b[39mbuffer_rgba(), \u001b[38;5;28mformat\u001b[39m\u001b[38;5;241m=\u001b[39mfmt, origin\u001b[38;5;241m=\u001b[39m\u001b[38;5;124m\"\u001b[39m\u001b[38;5;124mupper\u001b[39m\u001b[38;5;124m\"\u001b[39m,\n\u001b[1;32m    448\u001b[0m         dpi\u001b[38;5;241m=\u001b[39m\u001b[38;5;28mself\u001b[39m\u001b[38;5;241m.\u001b[39mfigure\u001b[38;5;241m.\u001b[39mdpi, metadata\u001b[38;5;241m=\u001b[39mmetadata, pil_kwargs\u001b[38;5;241m=\u001b[39mpil_kwargs)\n",
      "File \u001b[0;32m~/anaconda3/lib/python3.11/site-packages/matplotlib/backends/backend_agg.py:388\u001b[0m, in \u001b[0;36mFigureCanvasAgg.draw\u001b[0;34m(self)\u001b[0m\n\u001b[1;32m    385\u001b[0m \u001b[38;5;66;03m# Acquire a lock on the shared font cache.\u001b[39;00m\n\u001b[1;32m    386\u001b[0m \u001b[38;5;28;01mwith\u001b[39;00m (\u001b[38;5;28mself\u001b[39m\u001b[38;5;241m.\u001b[39mtoolbar\u001b[38;5;241m.\u001b[39m_wait_cursor_for_draw_cm() \u001b[38;5;28;01mif\u001b[39;00m \u001b[38;5;28mself\u001b[39m\u001b[38;5;241m.\u001b[39mtoolbar\n\u001b[1;32m    387\u001b[0m       \u001b[38;5;28;01melse\u001b[39;00m nullcontext()):\n\u001b[0;32m--> 388\u001b[0m     \u001b[38;5;28mself\u001b[39m\u001b[38;5;241m.\u001b[39mfigure\u001b[38;5;241m.\u001b[39mdraw(\u001b[38;5;28mself\u001b[39m\u001b[38;5;241m.\u001b[39mrenderer)\n\u001b[1;32m    389\u001b[0m     \u001b[38;5;66;03m# A GUI class may be need to update a window using this draw, so\u001b[39;00m\n\u001b[1;32m    390\u001b[0m     \u001b[38;5;66;03m# don't forget to call the superclass.\u001b[39;00m\n\u001b[1;32m    391\u001b[0m     \u001b[38;5;28msuper\u001b[39m()\u001b[38;5;241m.\u001b[39mdraw()\n",
      "File \u001b[0;32m~/anaconda3/lib/python3.11/site-packages/matplotlib/artist.py:95\u001b[0m, in \u001b[0;36m_finalize_rasterization.<locals>.draw_wrapper\u001b[0;34m(artist, renderer, *args, **kwargs)\u001b[0m\n\u001b[1;32m     93\u001b[0m \u001b[38;5;129m@wraps\u001b[39m(draw)\n\u001b[1;32m     94\u001b[0m \u001b[38;5;28;01mdef\u001b[39;00m \u001b[38;5;21mdraw_wrapper\u001b[39m(artist, renderer, \u001b[38;5;241m*\u001b[39margs, \u001b[38;5;241m*\u001b[39m\u001b[38;5;241m*\u001b[39mkwargs):\n\u001b[0;32m---> 95\u001b[0m     result \u001b[38;5;241m=\u001b[39m draw(artist, renderer, \u001b[38;5;241m*\u001b[39margs, \u001b[38;5;241m*\u001b[39m\u001b[38;5;241m*\u001b[39mkwargs)\n\u001b[1;32m     96\u001b[0m     \u001b[38;5;28;01mif\u001b[39;00m renderer\u001b[38;5;241m.\u001b[39m_rasterizing:\n\u001b[1;32m     97\u001b[0m         renderer\u001b[38;5;241m.\u001b[39mstop_rasterizing()\n",
      "File \u001b[0;32m~/anaconda3/lib/python3.11/site-packages/matplotlib/artist.py:72\u001b[0m, in \u001b[0;36mallow_rasterization.<locals>.draw_wrapper\u001b[0;34m(artist, renderer)\u001b[0m\n\u001b[1;32m     69\u001b[0m     \u001b[38;5;28;01mif\u001b[39;00m artist\u001b[38;5;241m.\u001b[39mget_agg_filter() \u001b[38;5;129;01mis\u001b[39;00m \u001b[38;5;129;01mnot\u001b[39;00m \u001b[38;5;28;01mNone\u001b[39;00m:\n\u001b[1;32m     70\u001b[0m         renderer\u001b[38;5;241m.\u001b[39mstart_filter()\n\u001b[0;32m---> 72\u001b[0m     \u001b[38;5;28;01mreturn\u001b[39;00m draw(artist, renderer)\n\u001b[1;32m     73\u001b[0m \u001b[38;5;28;01mfinally\u001b[39;00m:\n\u001b[1;32m     74\u001b[0m     \u001b[38;5;28;01mif\u001b[39;00m artist\u001b[38;5;241m.\u001b[39mget_agg_filter() \u001b[38;5;129;01mis\u001b[39;00m \u001b[38;5;129;01mnot\u001b[39;00m \u001b[38;5;28;01mNone\u001b[39;00m:\n",
      "File \u001b[0;32m~/anaconda3/lib/python3.11/site-packages/matplotlib/figure.py:3154\u001b[0m, in \u001b[0;36mFigure.draw\u001b[0;34m(self, renderer)\u001b[0m\n\u001b[1;32m   3151\u001b[0m         \u001b[38;5;66;03m# ValueError can occur when resizing a window.\u001b[39;00m\n\u001b[1;32m   3153\u001b[0m \u001b[38;5;28mself\u001b[39m\u001b[38;5;241m.\u001b[39mpatch\u001b[38;5;241m.\u001b[39mdraw(renderer)\n\u001b[0;32m-> 3154\u001b[0m mimage\u001b[38;5;241m.\u001b[39m_draw_list_compositing_images(\n\u001b[1;32m   3155\u001b[0m     renderer, \u001b[38;5;28mself\u001b[39m, artists, \u001b[38;5;28mself\u001b[39m\u001b[38;5;241m.\u001b[39msuppressComposite)\n\u001b[1;32m   3157\u001b[0m \u001b[38;5;28;01mfor\u001b[39;00m sfig \u001b[38;5;129;01min\u001b[39;00m \u001b[38;5;28mself\u001b[39m\u001b[38;5;241m.\u001b[39msubfigs:\n\u001b[1;32m   3158\u001b[0m     sfig\u001b[38;5;241m.\u001b[39mdraw(renderer)\n",
      "File \u001b[0;32m~/anaconda3/lib/python3.11/site-packages/matplotlib/image.py:132\u001b[0m, in \u001b[0;36m_draw_list_compositing_images\u001b[0;34m(renderer, parent, artists, suppress_composite)\u001b[0m\n\u001b[1;32m    130\u001b[0m \u001b[38;5;28;01mif\u001b[39;00m not_composite \u001b[38;5;129;01mor\u001b[39;00m \u001b[38;5;129;01mnot\u001b[39;00m has_images:\n\u001b[1;32m    131\u001b[0m     \u001b[38;5;28;01mfor\u001b[39;00m a \u001b[38;5;129;01min\u001b[39;00m artists:\n\u001b[0;32m--> 132\u001b[0m         a\u001b[38;5;241m.\u001b[39mdraw(renderer)\n\u001b[1;32m    133\u001b[0m \u001b[38;5;28;01melse\u001b[39;00m:\n\u001b[1;32m    134\u001b[0m     \u001b[38;5;66;03m# Composite any adjacent images together\u001b[39;00m\n\u001b[1;32m    135\u001b[0m     image_group \u001b[38;5;241m=\u001b[39m []\n",
      "File \u001b[0;32m~/anaconda3/lib/python3.11/site-packages/matplotlib/artist.py:72\u001b[0m, in \u001b[0;36mallow_rasterization.<locals>.draw_wrapper\u001b[0;34m(artist, renderer)\u001b[0m\n\u001b[1;32m     69\u001b[0m     \u001b[38;5;28;01mif\u001b[39;00m artist\u001b[38;5;241m.\u001b[39mget_agg_filter() \u001b[38;5;129;01mis\u001b[39;00m \u001b[38;5;129;01mnot\u001b[39;00m \u001b[38;5;28;01mNone\u001b[39;00m:\n\u001b[1;32m     70\u001b[0m         renderer\u001b[38;5;241m.\u001b[39mstart_filter()\n\u001b[0;32m---> 72\u001b[0m     \u001b[38;5;28;01mreturn\u001b[39;00m draw(artist, renderer)\n\u001b[1;32m     73\u001b[0m \u001b[38;5;28;01mfinally\u001b[39;00m:\n\u001b[1;32m     74\u001b[0m     \u001b[38;5;28;01mif\u001b[39;00m artist\u001b[38;5;241m.\u001b[39mget_agg_filter() \u001b[38;5;129;01mis\u001b[39;00m \u001b[38;5;129;01mnot\u001b[39;00m \u001b[38;5;28;01mNone\u001b[39;00m:\n",
      "File \u001b[0;32m~/anaconda3/lib/python3.11/site-packages/matplotlib/axes/_base.py:3070\u001b[0m, in \u001b[0;36m_AxesBase.draw\u001b[0;34m(self, renderer)\u001b[0m\n\u001b[1;32m   3067\u001b[0m \u001b[38;5;28;01mif\u001b[39;00m artists_rasterized:\n\u001b[1;32m   3068\u001b[0m     _draw_rasterized(\u001b[38;5;28mself\u001b[39m\u001b[38;5;241m.\u001b[39mfigure, artists_rasterized, renderer)\n\u001b[0;32m-> 3070\u001b[0m mimage\u001b[38;5;241m.\u001b[39m_draw_list_compositing_images(\n\u001b[1;32m   3071\u001b[0m     renderer, \u001b[38;5;28mself\u001b[39m, artists, \u001b[38;5;28mself\u001b[39m\u001b[38;5;241m.\u001b[39mfigure\u001b[38;5;241m.\u001b[39msuppressComposite)\n\u001b[1;32m   3073\u001b[0m renderer\u001b[38;5;241m.\u001b[39mclose_group(\u001b[38;5;124m'\u001b[39m\u001b[38;5;124maxes\u001b[39m\u001b[38;5;124m'\u001b[39m)\n\u001b[1;32m   3074\u001b[0m \u001b[38;5;28mself\u001b[39m\u001b[38;5;241m.\u001b[39mstale \u001b[38;5;241m=\u001b[39m \u001b[38;5;28;01mFalse\u001b[39;00m\n",
      "File \u001b[0;32m~/anaconda3/lib/python3.11/site-packages/matplotlib/image.py:132\u001b[0m, in \u001b[0;36m_draw_list_compositing_images\u001b[0;34m(renderer, parent, artists, suppress_composite)\u001b[0m\n\u001b[1;32m    130\u001b[0m \u001b[38;5;28;01mif\u001b[39;00m not_composite \u001b[38;5;129;01mor\u001b[39;00m \u001b[38;5;129;01mnot\u001b[39;00m has_images:\n\u001b[1;32m    131\u001b[0m     \u001b[38;5;28;01mfor\u001b[39;00m a \u001b[38;5;129;01min\u001b[39;00m artists:\n\u001b[0;32m--> 132\u001b[0m         a\u001b[38;5;241m.\u001b[39mdraw(renderer)\n\u001b[1;32m    133\u001b[0m \u001b[38;5;28;01melse\u001b[39;00m:\n\u001b[1;32m    134\u001b[0m     \u001b[38;5;66;03m# Composite any adjacent images together\u001b[39;00m\n\u001b[1;32m    135\u001b[0m     image_group \u001b[38;5;241m=\u001b[39m []\n",
      "File \u001b[0;32m~/anaconda3/lib/python3.11/site-packages/matplotlib/artist.py:72\u001b[0m, in \u001b[0;36mallow_rasterization.<locals>.draw_wrapper\u001b[0;34m(artist, renderer)\u001b[0m\n\u001b[1;32m     69\u001b[0m     \u001b[38;5;28;01mif\u001b[39;00m artist\u001b[38;5;241m.\u001b[39mget_agg_filter() \u001b[38;5;129;01mis\u001b[39;00m \u001b[38;5;129;01mnot\u001b[39;00m \u001b[38;5;28;01mNone\u001b[39;00m:\n\u001b[1;32m     70\u001b[0m         renderer\u001b[38;5;241m.\u001b[39mstart_filter()\n\u001b[0;32m---> 72\u001b[0m     \u001b[38;5;28;01mreturn\u001b[39;00m draw(artist, renderer)\n\u001b[1;32m     73\u001b[0m \u001b[38;5;28;01mfinally\u001b[39;00m:\n\u001b[1;32m     74\u001b[0m     \u001b[38;5;28;01mif\u001b[39;00m artist\u001b[38;5;241m.\u001b[39mget_agg_filter() \u001b[38;5;129;01mis\u001b[39;00m \u001b[38;5;129;01mnot\u001b[39;00m \u001b[38;5;28;01mNone\u001b[39;00m:\n",
      "File \u001b[0;32m~/anaconda3/lib/python3.11/site-packages/matplotlib/text.py:797\u001b[0m, in \u001b[0;36mText.draw\u001b[0;34m(self, renderer)\u001b[0m\n\u001b[1;32m    793\u001b[0m             textrenderer\u001b[38;5;241m.\u001b[39mdraw_tex(gc, x, y, clean_line,\n\u001b[1;32m    794\u001b[0m                                   \u001b[38;5;28mself\u001b[39m\u001b[38;5;241m.\u001b[39m_fontproperties, angle,\n\u001b[1;32m    795\u001b[0m                                   mtext\u001b[38;5;241m=\u001b[39mmtext)\n\u001b[1;32m    796\u001b[0m         \u001b[38;5;28;01melse\u001b[39;00m:\n\u001b[0;32m--> 797\u001b[0m             textrenderer\u001b[38;5;241m.\u001b[39mdraw_text(gc, x, y, clean_line,\n\u001b[1;32m    798\u001b[0m                                    \u001b[38;5;28mself\u001b[39m\u001b[38;5;241m.\u001b[39m_fontproperties, angle,\n\u001b[1;32m    799\u001b[0m                                    ismath\u001b[38;5;241m=\u001b[39mismath, mtext\u001b[38;5;241m=\u001b[39mmtext)\n\u001b[1;32m    801\u001b[0m gc\u001b[38;5;241m.\u001b[39mrestore()\n\u001b[1;32m    802\u001b[0m renderer\u001b[38;5;241m.\u001b[39mclose_group(\u001b[38;5;124m'\u001b[39m\u001b[38;5;124mtext\u001b[39m\u001b[38;5;124m'\u001b[39m)\n",
      "File \u001b[0;32m~/anaconda3/lib/python3.11/site-packages/matplotlib/backends/backend_agg.py:191\u001b[0m, in \u001b[0;36mRendererAgg.draw_text\u001b[0;34m(self, gc, x, y, s, prop, angle, ismath, mtext)\u001b[0m\n\u001b[1;32m    189\u001b[0m \u001b[38;5;28;01mif\u001b[39;00m ismath:\n\u001b[1;32m    190\u001b[0m     \u001b[38;5;28;01mreturn\u001b[39;00m \u001b[38;5;28mself\u001b[39m\u001b[38;5;241m.\u001b[39mdraw_mathtext(gc, x, y, s, prop, angle)\n\u001b[0;32m--> 191\u001b[0m font \u001b[38;5;241m=\u001b[39m \u001b[38;5;28mself\u001b[39m\u001b[38;5;241m.\u001b[39m_prepare_font(prop)\n\u001b[1;32m    192\u001b[0m \u001b[38;5;66;03m# We pass '0' for angle here, since it will be rotated (in raster\u001b[39;00m\n\u001b[1;32m    193\u001b[0m \u001b[38;5;66;03m# space) in the following call to draw_text_image).\u001b[39;00m\n\u001b[1;32m    194\u001b[0m font\u001b[38;5;241m.\u001b[39mset_text(s, \u001b[38;5;241m0\u001b[39m, flags\u001b[38;5;241m=\u001b[39mget_hinting_flag())\n",
      "File \u001b[0;32m~/anaconda3/lib/python3.11/site-packages/matplotlib/backends/backend_agg.py:254\u001b[0m, in \u001b[0;36mRendererAgg._prepare_font\u001b[0;34m(self, font_prop)\u001b[0m\n\u001b[1;32m    250\u001b[0m \u001b[38;5;28;01mdef\u001b[39;00m \u001b[38;5;21m_prepare_font\u001b[39m(\u001b[38;5;28mself\u001b[39m, font_prop):\n\u001b[1;32m    251\u001b[0m \u001b[38;5;250m    \u001b[39m\u001b[38;5;124;03m\"\"\"\u001b[39;00m\n\u001b[1;32m    252\u001b[0m \u001b[38;5;124;03m    Get the `.FT2Font` for *font_prop*, clear its buffer, and set its size.\u001b[39;00m\n\u001b[1;32m    253\u001b[0m \u001b[38;5;124;03m    \"\"\"\u001b[39;00m\n\u001b[0;32m--> 254\u001b[0m     font \u001b[38;5;241m=\u001b[39m get_font(_fontManager\u001b[38;5;241m.\u001b[39m_find_fonts_by_props(font_prop))\n\u001b[1;32m    255\u001b[0m     font\u001b[38;5;241m.\u001b[39mclear()\n\u001b[1;32m    256\u001b[0m     size \u001b[38;5;241m=\u001b[39m font_prop\u001b[38;5;241m.\u001b[39mget_size_in_points()\n",
      "File \u001b[0;32m~/anaconda3/lib/python3.11/site-packages/matplotlib/font_manager.py:1352\u001b[0m, in \u001b[0;36mFontManager._find_fonts_by_props\u001b[0;34m(self, prop, fontext, directory, fallback_to_default, rebuild_if_missing)\u001b[0m\n\u001b[1;32m   1350\u001b[0m fpaths \u001b[38;5;241m=\u001b[39m []\n\u001b[1;32m   1351\u001b[0m \u001b[38;5;28;01mfor\u001b[39;00m family \u001b[38;5;129;01min\u001b[39;00m prop\u001b[38;5;241m.\u001b[39mget_family():\n\u001b[0;32m-> 1352\u001b[0m     cprop \u001b[38;5;241m=\u001b[39m prop\u001b[38;5;241m.\u001b[39mcopy()\n\u001b[1;32m   1353\u001b[0m     cprop\u001b[38;5;241m.\u001b[39mset_family(family)  \u001b[38;5;66;03m# set current prop's family\u001b[39;00m\n\u001b[1;32m   1355\u001b[0m     \u001b[38;5;28;01mtry\u001b[39;00m:\n",
      "File \u001b[0;32m~/anaconda3/lib/python3.11/site-packages/matplotlib/font_manager.py:901\u001b[0m, in \u001b[0;36mFontProperties.copy\u001b[0;34m(self)\u001b[0m\n\u001b[1;32m    899\u001b[0m \u001b[38;5;28;01mdef\u001b[39;00m \u001b[38;5;21mcopy\u001b[39m(\u001b[38;5;28mself\u001b[39m):\n\u001b[1;32m    900\u001b[0m \u001b[38;5;250m    \u001b[39m\u001b[38;5;124;03m\"\"\"Return a copy of self.\"\"\"\u001b[39;00m\n\u001b[0;32m--> 901\u001b[0m     \u001b[38;5;28;01mreturn\u001b[39;00m copy\u001b[38;5;241m.\u001b[39mcopy(\u001b[38;5;28mself\u001b[39m)\n",
      "File \u001b[0;32m~/anaconda3/lib/python3.11/copy.py:92\u001b[0m, in \u001b[0;36mcopy\u001b[0;34m(x)\u001b[0m\n\u001b[1;32m     90\u001b[0m reductor \u001b[38;5;241m=\u001b[39m \u001b[38;5;28mgetattr\u001b[39m(x, \u001b[38;5;124m\"\u001b[39m\u001b[38;5;124m__reduce_ex__\u001b[39m\u001b[38;5;124m\"\u001b[39m, \u001b[38;5;28;01mNone\u001b[39;00m)\n\u001b[1;32m     91\u001b[0m \u001b[38;5;28;01mif\u001b[39;00m reductor \u001b[38;5;129;01mis\u001b[39;00m \u001b[38;5;129;01mnot\u001b[39;00m \u001b[38;5;28;01mNone\u001b[39;00m:\n\u001b[0;32m---> 92\u001b[0m     rv \u001b[38;5;241m=\u001b[39m reductor(\u001b[38;5;241m4\u001b[39m)\n\u001b[1;32m     93\u001b[0m \u001b[38;5;28;01melse\u001b[39;00m:\n\u001b[1;32m     94\u001b[0m     reductor \u001b[38;5;241m=\u001b[39m \u001b[38;5;28mgetattr\u001b[39m(x, \u001b[38;5;124m\"\u001b[39m\u001b[38;5;124m__reduce__\u001b[39m\u001b[38;5;124m\"\u001b[39m, \u001b[38;5;28;01mNone\u001b[39;00m)\n",
      "\u001b[0;31mKeyboardInterrupt\u001b[0m: "
     ]
    }
   ],
   "source": [
    "# TODO: FIX THIS\n",
    "plt.figure(figsize=(16,16))\n",
    "plt.imshow(N, cmap='Blues')\n",
    "for i in range(len(pair_itos)):\n",
    "    for j in range(len(pred_itos)):\n",
    "        chstr = pair_itos[i] + pred_itos[j]\n",
    "        plt.text(j, i, chstr, ha=\"center\", va=\"bottom\", color='gray')\n",
    "        plt.text(j, i, N[i, j].item(), ha=\"center\", va=\"top\", color=\"gray\")\n",
    "plt.axis('off')"
   ]
  },
  {
   "cell_type": "markdown",
   "metadata": {},
   "source": [
    "Convert the counts to proabilities of what character a pair will predict next. We add 0.01 to avoid predicting a pair which was 0 occurrences, that would result in / 0."
   ]
  },
  {
   "cell_type": "code",
   "execution_count": 13,
   "metadata": {},
   "outputs": [
    {
     "data": {
      "text/plain": [
       "tensor([5.1748e-02, 3.6968e-02, 1.8659e-03, 1.2010e-01, 3.1963e-01, 1.8475e-05,\n",
       "        1.8475e-05, 3.3273e-02, 1.4043e-01, 1.8475e-05, 1.8475e-05, 1.8493e-02,\n",
       "        1.8475e-05, 3.7134e-03, 7.4084e-03, 1.8475e-05, 1.8475e-05, 1.5705e-01,\n",
       "        9.2558e-03, 1.8475e-05, 1.1103e-02, 1.8475e-05, 1.8475e-05, 1.8475e-05,\n",
       "        2.2188e-02, 1.8475e-05, 1.8475e-05, 6.6527e-02])"
      ]
     },
     "execution_count": 13,
     "metadata": {},
     "output_type": "execute_result"
    }
   ],
   "source": [
    "P = (N+0.01).float()  \n",
    "P /= P.sum(1, keepdims=True)\n",
    "P[1]"
   ]
  },
  {
   "cell_type": "markdown",
   "metadata": {},
   "source": [
    "For sampling we will use torch.multinomial and a generator object to make everything deterministic \n",
    "\n",
    "This line of code is using PyTorch, a popular machine learning library in Python. \n",
    "\n",
    "The `torch.Generator()` is an object that holds the state of the random number generator. You can think of it as a container for the algorithm that produces pseudo-random numbers.\n",
    "\n",
    "The `manual_seed()` function is used to set the seed for generating random numbers. This ensures that the random numbers generated are deterministic, meaning if you use the same seed, you will get the same sequence of random numbers. This is useful for debugging and testing purposes, as it allows for reproducibility in your code."
   ]
  },
  {
   "cell_type": "code",
   "execution_count": 14,
   "metadata": {},
   "outputs": [],
   "source": [
    "g = torch.Generator().manual_seed(2147483647)"
   ]
  },
  {
   "cell_type": "markdown",
   "metadata": {},
   "source": [
    "Logic -> We predict the 3rd character from the beginning two e.g. em -> a. \n",
    "We then strip the first character and append our 3rd character for the next prediction i.e. ma -> b\n",
    "\n",
    "- Starting off the prediction, we need to start on <S>(x) character"
   ]
  },
  {
   "cell_type": "code",
   "execution_count": 15,
   "metadata": {},
   "outputs": [
    {
     "data": {
      "text/plain": [
       "[(702, '<S>a'),\n",
       " (703, '<S>b'),\n",
       " (704, '<S>c'),\n",
       " (705, '<S>d'),\n",
       " (706, '<S>e'),\n",
       " (707, '<S>f'),\n",
       " (708, '<S>g'),\n",
       " (709, '<S>h'),\n",
       " (710, '<S>i'),\n",
       " (711, '<S>j')]"
      ]
     },
     "execution_count": 15,
     "metadata": {},
     "output_type": "execute_result"
    }
   ],
   "source": [
    "start_chars = []\n",
    "for key, value in pair_itos.items():\n",
    "    if '<S>' in str(value):\n",
    "        start_chars.append((key, value))\n",
    "start_chars[:10]"
   ]
  },
  {
   "cell_type": "markdown",
   "metadata": {},
   "source": [
    "Note - When we run through predictions, we need to predict like ab -> c -> bc -> d -> cd -> e\n",
    "Therefore we need to combine the second character in the pair with the predicted value. This is demonstrated below.\n",
    "\n",
    "Note: -1 gets the last character from a string"
   ]
  },
  {
   "cell_type": "code",
   "execution_count": 16,
   "metadata": {},
   "outputs": [
    {
     "data": {
      "text/plain": [
       "tensor([0.2428, 0.0012, 0.0012, 0.0012, 0.1220, 0.0012, 0.0012, 0.1220, 0.2428,\n",
       "        0.0012, 0.0012, 0.0012, 0.0012, 0.0012, 0.1220, 0.0012, 0.0012, 0.0012,\n",
       "        0.0012, 0.1220, 0.0012, 0.0012, 0.0012, 0.0012, 0.0012, 0.0012, 0.0012,\n",
       "        0.0012])"
      ]
     },
     "execution_count": 16,
     "metadata": {},
     "output_type": "execute_result"
    }
   ],
   "source": [
    "ix_pair = pair_itos[10][-1] + pred_itos[10] \n",
    "ix_pair\n",
    "\n",
    "pairs_string_to_integer[ix_pair]\n",
    "P[45]"
   ]
  },
  {
   "cell_type": "code",
   "execution_count": 19,
   "metadata": {},
   "outputs": [
    {
     "name": "stdout",
     "output_type": "stream",
     "text": [
      "<S>aanshera<E>\n",
      "<S>ny<E>\n",
      "<S>ida<E>\n",
      "<S>tim<E>\n",
      "<S>nia<E>\n",
      "<S>trizarey<E>\n",
      "<S>yonn<E>\n",
      "<S>keige<E>\n",
      "<S>idallae<E>\n",
      "<S>auni<E>\n"
     ]
    }
   ],
   "source": [
    "import random\n",
    "g = torch.Generator().manual_seed(214748347)\n",
    "\n",
    "for i in range(10):\n",
    "    # Select a random value from start_chars\n",
    "    out = []\n",
    "    start_ix = random.choice(start_chars) # Gets all pairs that start with <S> \n",
    "    ix_pair = start_ix[0] # Gets integer reference for pair e.g. fe -> 45\n",
    "    out.append(start_ix[1]) # Append the first start characters\n",
    "    while True:\n",
    "        p = P[ix_pair]\n",
    "        iy_pred_reference = torch.multinomial(p, num_samples=1, replacement=True, generator=g).item()\n",
    "        out.append(pred_itos[iy_pred_reference])\n",
    "        if '<E>' in pred_itos[iy_pred_reference]:\n",
    "            break\n",
    "        # Combines last letter of pair and predicted char e.g. xy predicts z  so ix_pair now equals  = yz \n",
    "        # if '<S>' in pair_itos[ix_pair]:\n",
    "\n",
    "        ix_pair_str = pair_itos[ix_pair][-1] + pred_itos[iy_pred_reference] \n",
    "        \n",
    "        # Convert ix back to an integer reference\n",
    "        ix_pair = pairs_string_to_integer[ix_pair_str]\n",
    "\n",
    "\n",
    "    print(''.join(out))\n"
   ]
  },
  {
   "cell_type": "markdown",
   "metadata": {},
   "source": [
    "Now lets look at calculating the loss function to check the quality of the model\n",
    "\n",
    "GOAL: maximize likelihood of the data w.r.t. model parameters (statistical modeling)\n",
    "equivalent to maximizing the log likelihood (because log is monotonic)\n",
    "equivalent to minimizing the negative log likelihood\n",
    "equivalent to minimizing the average negative log likelihood\n",
    "\n",
    "log(a*b*c) = log(a) + log(b) + log(c)"
   ]
  },
  {
   "cell_type": "code",
   "execution_count": 20,
   "metadata": {},
   "outputs": [
    {
     "name": "stdout",
     "output_type": "stream",
     "text": [
      "-404493.21875\n",
      "negative_log_liklihood=tensor(404493.2188)\n",
      "2.062551736831665\n"
     ]
    }
   ],
   "source": [
    "log_likelihood = 0.0\n",
    "n = 0 \n",
    "for w in words:\n",
    "    chs = ['<S>'] + list(w) + ['<E>'] # hallucinate a start character and end character \n",
    "    for pair, ch in zip(zip(chs, chs[1:]), chs[2:]):\n",
    "        pair_combined = pair[0] + pair[1]\n",
    "        ix1 = pairs_string_to_integer[pair_combined]\n",
    "        ix2 = char_to_integer[ch]\n",
    "        prob = P[ix1, ix2]\n",
    "        logprob = torch.log(prob)\n",
    "        log_likelihood += logprob\n",
    "        n +=1 \n",
    "        # print(f'{pair}{ch}: {prob:.4f} {logprob:.4f}')\n",
    "print(f'{log_likelihood}')\n",
    "\n",
    "negative_log_liklihood = -log_likelihood\n",
    "print(f'{negative_log_liklihood=}')\n",
    "print(f'{negative_log_liklihood/n}') # Average log likelihood\n"
   ]
  },
  {
   "cell_type": "code",
   "execution_count": null,
   "metadata": {},
   "outputs": [
    {
     "data": {
      "text/plain": [
       "['emma']"
      ]
     },
     "execution_count": 20,
     "metadata": {},
     "output_type": "execute_result"
    }
   ],
   "source": [
    "words[:1]"
   ]
  },
  {
   "cell_type": "markdown",
   "metadata": {},
   "source": [
    "# Method 2  - Neural Net and gradient descent"
   ]
  },
  {
   "cell_type": "markdown",
   "metadata": {},
   "source": [
    "Lets now do this via a neural net - first we take the first name 'emma' as an example"
   ]
  },
  {
   "cell_type": "code",
   "execution_count": 41,
   "metadata": {},
   "outputs": [
    {
     "data": {
      "text/plain": [
       "tensor([706, 120, 336, 324])"
      ]
     },
     "execution_count": 41,
     "metadata": {},
     "output_type": "execute_result"
    }
   ],
   "source": [
    "# Create a training set of all the trigrams (ab,c)\n",
    "xs, ys = [], []\n",
    "\n",
    "for w in words[:1]:\n",
    "    chs = ['<S>'] + list(w) + ['<E>'] # hallucinate a start character and end character \n",
    "    for pair, ch in zip(zip(chs, chs[1:]), chs[2:]):\n",
    "        pair_combined = pair[0] + pair[1]\n",
    "        ix1 = pairs_string_to_integer[pair_combined]\n",
    "        ix2 = char_to_integer[ch]\n",
    "        xs.append(ix1)\n",
    "        ys.append(ix2)\n",
    "xs = torch.tensor(xs)\n",
    "ys = torch.tensor(ys)\n",
    "xs\n"
   ]
  },
  {
   "cell_type": "markdown",
   "metadata": {},
   "source": [
    "tensor([706, 120, 336, 324]) = <S>e <em> <mm> <ma>"
   ]
  },
  {
   "cell_type": "code",
   "execution_count": 42,
   "metadata": {},
   "outputs": [
    {
     "data": {
      "text/plain": [
       "'ma'"
      ]
     },
     "execution_count": 42,
     "metadata": {},
     "output_type": "execute_result"
    }
   ],
   "source": [
    "pair_itos[324]"
   ]
  },
  {
   "cell_type": "code",
   "execution_count": 34,
   "metadata": {},
   "outputs": [
    {
     "data": {
      "text/plain": [
       "728"
      ]
     },
     "execution_count": 34,
     "metadata": {},
     "output_type": "execute_result"
    }
   ],
   "source": [
    "ys\n",
    "len(pairs_string_to_integer)"
   ]
  },
  {
   "cell_type": "code",
   "execution_count": 37,
   "metadata": {},
   "outputs": [
    {
     "data": {
      "text/plain": [
       "torch.Size([4, 728])"
      ]
     },
     "execution_count": 37,
     "metadata": {},
     "output_type": "execute_result"
    }
   ],
   "source": [
    "import torch.nn.functional as F\n",
    "\n",
    "xenc = F.one_hot(xs, num_classes=len(pairs_string_to_integer)).float()\n",
    "xenc"
   ]
  },
  {
   "cell_type": "code",
   "execution_count": 43,
   "metadata": {},
   "outputs": [
    {
     "data": {
      "text/plain": [
       "torch.Size([4, 728])"
      ]
     },
     "execution_count": 43,
     "metadata": {},
     "output_type": "execute_result"
    }
   ],
   "source": [
    "xenc.shape "
   ]
  },
  {
   "cell_type": "markdown",
   "metadata": {},
   "source": [
    "We can see the different pairs from 'emma' denoted in the below graph. "
   ]
  },
  {
   "cell_type": "code",
   "execution_count": 54,
   "metadata": {},
   "outputs": [
    {
     "data": {
      "text/plain": [
       "<matplotlib.image.AxesImage at 0x16dfc1c10>"
      ]
     },
     "execution_count": 54,
     "metadata": {},
     "output_type": "execute_result"
    },
    {
     "data": {
      "image/png": "[encoded data removed]",
      "text/plain": [
       "<Figure size 640x480 with 1 Axes>"
      ]
     },
     "metadata": {},
     "output_type": "display_data"
    }
   ],
   "source": [
    "plt.imshow(xenc, aspect=20/1)"
   ]
  },
  {
   "cell_type": "markdown",
   "metadata": {},
   "source": [
    "Create a neuron, still focusing just on emma"
   ]
  },
  {
   "cell_type": "code",
   "execution_count": 61,
   "metadata": {},
   "outputs": [
    {
     "data": {
      "text/plain": [
       "4"
      ]
     },
     "execution_count": 61,
     "metadata": {},
     "output_type": "execute_result"
    }
   ],
   "source": [
    "# weights\n",
    "W = torch.randn((xenc.shape[1], len(ys)))\n",
    "xenc.shape[1]\n",
    "# Multiple encodings by weight, feed all our inputs into the neuron i.e. w \n",
    "xenc @ W\n"
   ]
  }
 ],
 "metadata": {
  "kernelspec": {
   "display_name": "Python 3 (ipykernel)",
   "language": "python",
   "name": "python3"
  },
  "language_info": {
   "codemirror_mode": {
    "name": "ipython",
    "version": 3
   },
   "file_extension": ".py",
   "mimetype": "text/x-python",
   "name": "python",
   "nbconvert_exporter": "python",
   "pygments_lexer": "ipython3",
   "version": "3.11.5"
  }
 },
 "nbformat": 4,
 "nbformat_minor": 2
}
