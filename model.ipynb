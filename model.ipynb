{
 "cells": [
  {
   "cell_type": "markdown",
   "metadata": {},
   "source": [
    "Our first method will use simple counting i.e. count the number of times each character is predicted based on two characters provided e.g. the name jane would defines n as the next characters after 'ja' so that would add to 'n' probability of being the next character "
   ]
  },
  {
   "cell_type": "code",
   "execution_count": 546,
   "metadata": {},
   "outputs": [
    {
     "name": "stdout",
     "output_type": "stream",
     "text": [
      "Requirement already satisfied: torch in /Users/robbuckley/anaconda3/lib/python3.11/site-packages (2.1.2)\n",
      "Requirement already satisfied: torchvision in /Users/robbuckley/anaconda3/lib/python3.11/site-packages (0.16.2)\n",
      "Requirement already satisfied: filelock in /Users/robbuckley/anaconda3/lib/python3.11/site-packages (from torch) (3.13.1)\n",
      "Requirement already satisfied: typing-extensions in /Users/robbuckley/anaconda3/lib/python3.11/site-packages (from torch) (4.9.0)\n",
      "Requirement already satisfied: sympy in /Users/robbuckley/anaconda3/lib/python3.11/site-packages (from torch) (1.12)\n",
      "Requirement already satisfied: networkx in /Users/robbuckley/anaconda3/lib/python3.11/site-packages (from torch) (3.1)\n",
      "Requirement already satisfied: jinja2 in /Users/robbuckley/anaconda3/lib/python3.11/site-packages (from torch) (3.1.2)\n",
      "Requirement already satisfied: fsspec in /Users/robbuckley/anaconda3/lib/python3.11/site-packages (from torch) (2023.10.0)\n",
      "Requirement already satisfied: numpy in /Users/robbuckley/anaconda3/lib/python3.11/site-packages (from torchvision) (1.26.3)\n",
      "Requirement already satisfied: requests in /Users/robbuckley/anaconda3/lib/python3.11/site-packages (from torchvision) (2.31.0)\n",
      "Requirement already satisfied: pillow!=8.3.*,>=5.3.0 in /Users/robbuckley/anaconda3/lib/python3.11/site-packages (from torchvision) (10.0.1)\n",
      "Requirement already satisfied: MarkupSafe>=2.0 in /Users/robbuckley/anaconda3/lib/python3.11/site-packages (from jinja2->torch) (2.1.3)\n",
      "Requirement already satisfied: charset-normalizer<4,>=2 in /Users/robbuckley/anaconda3/lib/python3.11/site-packages (from requests->torchvision) (2.0.4)\n",
      "Requirement already satisfied: idna<4,>=2.5 in /Users/robbuckley/anaconda3/lib/python3.11/site-packages (from requests->torchvision) (3.4)\n",
      "Requirement already satisfied: urllib3<3,>=1.21.1 in /Users/robbuckley/anaconda3/lib/python3.11/site-packages (from requests->torchvision) (1.26.18)\n",
      "Requirement already satisfied: certifi>=2017.4.17 in /Users/robbuckley/anaconda3/lib/python3.11/site-packages (from requests->torchvision) (2023.11.17)\n",
      "Requirement already satisfied: mpmath>=0.19 in /Users/robbuckley/anaconda3/lib/python3.11/site-packages (from sympy->torch) (1.3.0)\n",
      "Note: you may need to restart the kernel to use updated packages.\n"
     ]
    }
   ],
   "source": [
    "import math\n",
    "import numpy as np\n",
    "import matplotlib.pyplot as plt\n",
    "%matplotlib inline \n",
    "%pip install torch torchvision\n",
    "import torch"
   ]
  },
  {
   "cell_type": "code",
   "execution_count": 547,
   "metadata": {},
   "outputs": [
    {
     "data": {
      "text/plain": [
       "['emma',\n",
       " 'olivia',\n",
       " 'ava',\n",
       " 'isabella',\n",
       " 'sophia',\n",
       " 'charlotte',\n",
       " 'mia',\n",
       " 'amelia',\n",
       " 'harper',\n",
       " 'evelyn']"
      ]
     },
     "execution_count": 547,
     "metadata": {},
     "output_type": "execute_result"
    }
   ],
   "source": [
    "# Read in words\n",
    "words = open('names.txt', 'r').read().splitlines()\n",
    "words[:10]\n"
   ]
  },
  {
   "cell_type": "markdown",
   "metadata": {},
   "source": [
    "In this instance, we are only looking at three characters. Two input characters, and the character we are predicting next.\n",
    "\n",
    "e.g. what characters are likely to follow r\n",
    "\n",
    "we also now what names are likely to start and finish at\n",
    "\n",
    "\n",
    "We then do a simple count of most prominent trigrams\n",
    "\n",
    "How many examples do we get from emma?\n",
    "\n",
    "<S>e -> m\n",
    "em -> m\n",
    "mm -> a\n",
    "ma -> <E>"
   ]
  },
  {
   "cell_type": "code",
   "execution_count": 548,
   "metadata": {},
   "outputs": [],
   "source": [
    "t = {}\n",
    "for w in words:\n",
    "    chs = ['<S>'] + list(w) + ['<E>'] # hallucinate a start character and end character \n",
    "    for pair, ch2 in zip(zip(chs, chs[1:]), chs[2:]):\n",
    "        trigram  = (''.join(pair), ch2)\n",
    "        t[trigram ] = t.get(trigram, 0) + 1"
   ]
  },
  {
   "cell_type": "markdown",
   "metadata": {},
   "source": [
    "Now lets get the count of each combo and sort. we'll see that ah followed by ending character occurs the"
   ]
  },
  {
   "cell_type": "code",
   "execution_count": 549,
   "metadata": {},
   "outputs": [
    {
     "data": {
      "text/plain": [
       "[(('ah', '<E>'), 1714),\n",
       " (('na', '<E>'), 1673),\n",
       " (('an', '<E>'), 1509),\n",
       " (('on', '<E>'), 1503),\n",
       " (('<S>m', 'a'), 1453),\n",
       " (('<S>j', 'a'), 1255),\n",
       " (('<S>k', 'a'), 1254),\n",
       " (('en', '<E>'), 1217),\n",
       " (('ly', 'n'), 976),\n",
       " (('yn', '<E>'), 953)]"
      ]
     },
     "execution_count": 549,
     "metadata": {},
     "output_type": "execute_result"
    }
   ],
   "source": [
    "sorted_t = sorted(t.items(), key = lambda kv: -kv[1])\n",
    "sorted_t[:10]"
   ]
  },
  {
   "cell_type": "markdown",
   "metadata": {},
   "source": [
    "Lets convert our trigram to an array. We need to deduce how many rows we have, so it should be all the combinations of characters against our list of 28 chars.\n",
    "\n",
    "28 characters consist of 26 alphabet characters plus our <S> and <E> characters. So as we can pair same characters together e.g. -> a,a and with the other 27 chars, there is a total of 28*28 combinations -> 784"
   ]
  },
  {
   "cell_type": "code",
   "execution_count": 562,
   "metadata": {},
   "outputs": [
    {
     "name": "stdout",
     "output_type": "stream",
     "text": [
      "[('aa', 0), ('ab', 1), ('ac', 2), ('ad', 3), ('ae', 4), ('af', 5), ('ag', 6), ('ah', 7), ('ai', 8), ('aj', 9)]\n"
     ]
    }
   ],
   "source": [
    "import string\n",
    "\n",
    "# Create a list of all lowercase letters\n",
    "letters = string.ascii_lowercase\n",
    "\n",
    "# Create a list of tuples where the first element is a pair of characters and the second element is an integer index\n",
    "pairs_string_to_integer = [(a+b, i) for i, (a, b) in enumerate((x, y) for x in letters for y in letters)]\n",
    "\n",
    "# Print the first 10 items\n",
    "print(pairs_string_to_integer[:10])"
   ]
  },
  {
   "cell_type": "code",
   "execution_count": 560,
   "metadata": {},
   "outputs": [
    {
     "name": "stdout",
     "output_type": "stream",
     "text": [
      "[('lw', 0), ('lh', 1), ('tm', 2), ('hj', 3), ('eu', 4), ('nv', 5), ('mc', 6), ('lt', 7), ('ra', 8), ('un', 9)]\n"
     ]
    }
   ],
   "source": []
  },
  {
   "cell_type": "code",
   "execution_count": null,
   "metadata": {},
   "outputs": [],
   "source": [
    "import torch\n",
    "\n",
    "N = torch.zeros((len(pairs_string_to_integer), 28), dtype=torch.int32) # 28*28 = 784 for different pair combos\n",
    "N[:5]"
   ]
  },
  {
   "cell_type": "markdown",
   "metadata": {},
   "source": [
    "We need to create a lookup of integers to pairs so we can have an index. \n",
    "Basically we need an integer ref for all our points in our torch, that means each character pair needs an integer value, and each character needs a value e.g. ac = [100] and if it predicts d as next letter it would be axis point [100, 3]. Therefore each time this is shown, we add +1, allowing us to count the number of occurences "
   ]
  },
  {
   "cell_type": "markdown",
   "metadata": {},
   "source": [
    "If I understand this correctly, we therefore need two integer lookups: \n",
    "-\n",
    "Taking our char pairs as the 'y' axis - we need 0:len(unique-pairs)  i.e. 0-600 and then our single character axis being x axis, we need 28 chars (alphabet including <S> and <E>)\n",
    "\n",
    "0   |------------------------------28\n",
    "    |<S>aa   <S>ab  <S>ac\n",
    "    |aaa     aab    aac\n",
    "    |..\n",
    "    |..\n",
    "    |..\n",
    "600 |zaa zab"
   ]
  },
  {
   "cell_type": "markdown",
   "metadata": {},
   "source": [
    "Lets get the character string to integer index for our 'y-axis'"
   ]
  },
  {
   "cell_type": "code",
   "execution_count": null,
   "metadata": {},
   "outputs": [],
   "source": [
    "# returns all the set of lowercase characters\n",
    "chars = sorted(set(''.join(words)))\n",
    "pred_string_to_integer = {s:i for i,s in enumerate(chars)}\n",
    "pred_string_to_integer['<S>'] = 26\n",
    "pred_string_to_integer['<E>'] = 27\n",
    "print(list(pred_string_to_integer)[:10])"
   ]
  },
  {
   "cell_type": "markdown",
   "metadata": {},
   "source": [
    "Now lets store our counts in a tensor"
   ]
  },
  {
   "cell_type": "code",
   "execution_count": null,
   "metadata": {},
   "outputs": [],
   "source": [
    "for w in words:\n",
    "    chs = ['<S>'] + list(w) + ['<E>'] # hallucinate a start character and end character \n",
    "    for pair, ch2 in zip(zip(chs, chs[1:]), chs[2:]):\n",
    "        trigram  = (''.join(pair), ch2)\n",
    "        pairs_combined = trigram[0]\n",
    "        ix1 = pairs_string_to_integer[pairs_combined]\n",
    "        ix2 = pred_string_to_integer[ch2]\n",
    "        N[ix1, ix2] += 1  "
   ]
  },
  {
   "cell_type": "code",
   "execution_count": null,
   "metadata": {},
   "outputs": [],
   "source": [
    "N[10]"
   ]
  },
  {
   "cell_type": "code",
   "execution_count": null,
   "metadata": {},
   "outputs": [],
   "source": [
    "%pip install matplotlib\n",
    "import matplotlib.pyplot as plt\n",
    "%matplotlib inline"
   ]
  },
  {
   "cell_type": "markdown",
   "metadata": {},
   "source": [
    "Create an inverse of string to integer"
   ]
  },
  {
   "cell_type": "code",
   "execution_count": null,
   "metadata": {},
   "outputs": [],
   "source": [
    "pred_itos = {i:s for s,i in pred_string_to_integer.items()}\n",
    "pair_itos = {i:s for s,i in pairs_string_to_integer.items()}"
   ]
  },
  {
   "cell_type": "code",
   "execution_count": null,
   "metadata": {},
   "outputs": [],
   "source": [
    "# To do: FIX THIS\n",
    "plt.figure(figsize=(16,16))\n",
    "plt.imshow(N, cmap='Blues')\n",
    "for i in range(len(pair_itos)):\n",
    "    for j in range(len(pred_itos)):\n",
    "        chstr = pair_itos[i] + pred_itos[j]\n",
    "        plt.text(j, i, chstr, ha=\"center\", va=\"bottom\", color='gray')\n",
    "        plt.text(j, i, N[i, j].item(), ha=\"center\", va=\"top\", color=\"gray\")\n",
    "plt.axis('off')"
   ]
  },
  {
   "cell_type": "code",
   "execution_count": null,
   "metadata": {},
   "outputs": [],
   "source": [
    "N[10]"
   ]
  },
  {
   "cell_type": "markdown",
   "metadata": {},
   "source": [
    "Now lets convert to probabilitiess. Gives us the probability of any character being the first character of a name. "
   ]
  },
  {
   "cell_type": "code",
   "execution_count": null,
   "metadata": {},
   "outputs": [],
   "source": [
    "P = (N+0.01).float()  \n",
    "P /=  P.sum(1, keepdims=True)\n",
    "P[1]"
   ]
  },
  {
   "cell_type": "markdown",
   "metadata": {},
   "source": [
    "For sampling we will use torch.multinomial and a generator object to make everything deterministic \n",
    "\n",
    "This line of code is using PyTorch, a popular machine learning library in Python. \n",
    "\n",
    "The `torch.Generator()` is an object that holds the state of the random number generator. You can think of it as a container for the algorithm that produces pseudo-random numbers.\n",
    "\n",
    "The `manual_seed()` function is used to set the seed for generating random numbers. This ensures that the random numbers generated are deterministic, meaning if you use the same seed, you will get the same sequence of random numbers. This is useful for debugging and testing purposes, as it allows for reproducibility in your code."
   ]
  },
  {
   "cell_type": "code",
   "execution_count": null,
   "metadata": {},
   "outputs": [],
   "source": [
    "g = torch.Generator().manual_seed(214743647)"
   ]
  },
  {
   "cell_type": "markdown",
   "metadata": {},
   "source": [
    "Logic -> We predict the 3rd character from the beginning two e.g. em -> a. \n",
    "We then strip the first character and append our 3rd character for the next prediction i.e. ma -> b\n",
    "\n",
    "- Starting off the prediction, we need to start on <S>(x) character"
   ]
  },
  {
   "cell_type": "code",
   "execution_count": null,
   "metadata": {},
   "outputs": [],
   "source": [
    "start_chars = []\n",
    "for key, value in pair_itos.items():\n",
    "    if '<S>' in str(value):\n",
    "        start_chars.append((key, value))\n",
    "start_chars[:10]"
   ]
  },
  {
   "cell_type": "markdown",
   "metadata": {},
   "source": [
    "We also need to know when to end the sequence, so we must find all characters with an ending character. This will be the value with pred = <E>"
   ]
  },
  {
   "cell_type": "code",
   "execution_count": null,
   "metadata": {},
   "outputs": [],
   "source": [
    "import random\n",
    "ix = random.choice(start_chars)\n"
   ]
  },
  {
   "cell_type": "code",
   "execution_count": null,
   "metadata": {},
   "outputs": [],
   "source": [
    "iy_pred_reference = torch.multinomial(p, num_samples=1, replacement=True, generator=g).item()\n",
    "iy_pred_reference"
   ]
  },
  {
   "cell_type": "code",
   "execution_count": null,
   "metadata": {},
   "outputs": [],
   "source": [
    "ix = torch.multinomial(p, num_samples=1, replacement=True, generator=g).item()\n",
    "ix"
   ]
  },
  {
   "cell_type": "markdown",
   "metadata": {},
   "source": [
    "Note - When we run through predictions, we need to predict like ab -> c -> bc -> d -> cd -> e\n",
    "Therefore we need to combine the second character in the pair with the predicted value. This is demonstrated below.\n",
    "\n",
    "Note: -1 gets the last character from a string"
   ]
  },
  {
   "cell_type": "code",
   "execution_count": null,
   "metadata": {},
   "outputs": [],
   "source": [
    "ix_pair = pair_itos[10][-1] + pred_itos[10] \n",
    "ix_pair\n",
    "\n",
    "### LATEST TO DO: We need to map every single type of pair from aa -> zz as we need to account for pairs that aren't predicted in our dataset\n",
    "### e.g. bk is not predicted here, so it returns an error as the pair does not exist\n",
    "### We could do an if not exists assign random character, but would be nicer to handle this inside the tensor\n",
    "pairs_string_to_integer[ix_pair]"
   ]
  },
  {
   "cell_type": "code",
   "execution_count": null,
   "metadata": {},
   "outputs": [],
   "source": [
    "import random\n",
    "g = torch.Generator().manual_seed(214748347)\n",
    "\n",
    "for i in range(10):\n",
    "    # Select a random value from start_chars\n",
    "    out = []\n",
    "    start_ix = random.choice(start_chars) # Gets all pairs that start with <S> \n",
    "    ix_pair = start_ix[0] # Gets integer reference for pair e.g. fe -> 45\n",
    "    while True:\n",
    "        p = P[ix_pair]\n",
    "        iy_pred_reference = torch.multinomial(p, num_samples=1, replacement=True, generator=g).item()\n",
    "        out.append(pred_itos[iy_pred_reference])\n",
    "        if '<E>' in pred_itos[iy_pred_reference]:\n",
    "            break\n",
    "        # Combines last letter of pair and predicted char e.g. xy predicts z  so ix_pair now equals  = yz \n",
    "        ix_pair = pair_itos[ix_pair][-1] + pred_itos[iy_pred_reference] \n",
    "    # print(''.join(out))\n"
   ]
  },
  {
   "cell_type": "code",
   "execution_count": null,
   "metadata": {},
   "outputs": [],
   "source": [
    "print(t)\n",
    "print(pairs)\n",
    "# pred_string_to_integer = {s:i for i,s in enumerate(chars)}\n",
    "# pred_string_to_integer['<S>'] = 26\n",
    "# pred_string_to_integer['<E>'] = 27\n",
    "# pred_string_to_integer"
   ]
  },
  {
   "cell_type": "code",
   "execution_count": null,
   "metadata": {},
   "outputs": [],
   "source": [
    "print(pred_itos)"
   ]
  }
 ],
 "metadata": {
  "kernelspec": {
   "display_name": "Python 3 (ipykernel)",
   "language": "python",
   "name": "python3"
  },
  "language_info": {
   "codemirror_mode": {
    "name": "ipython",
    "version": 3
   },
   "file_extension": ".py",
   "mimetype": "text/x-python",
   "name": "python",
   "nbconvert_exporter": "python",
   "pygments_lexer": "ipython3",
   "version": "3.11.5"
  }
 },
 "nbformat": 4,
 "nbformat_minor": 2
}
